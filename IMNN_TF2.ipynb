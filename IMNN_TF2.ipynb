{
 "cells": [
  {
   "cell_type": "markdown",
   "metadata": {
    "slideshow": {
     "slide_type": "slide"
    }
   },
   "source": [
    "# IMNN ($\\alpha$) with TensorFlow 2.0 ($\\alpha$)"
   ]
  },
  {
   "cell_type": "markdown",
   "metadata": {
    "slideshow": {
     "slide_type": "slide"
    }
   },
   "source": [
    "We can load everything as we expect"
   ]
  },
  {
   "cell_type": "code",
   "execution_count": 1,
   "metadata": {
    "slideshow": {
     "slide_type": "-"
    }
   },
   "outputs": [],
   "source": [
    "%matplotlib inline\n",
    "import matplotlib.pyplot as plt\n",
    "import tensorflow as tf\n",
    "import numpy as np\n",
    "import tqdm"
   ]
  },
  {
   "cell_type": "markdown",
   "metadata": {
    "slideshow": {
     "slide_type": "slide"
    }
   },
   "source": [
    "And then we set a few IMNN parameters (and data parameters)"
   ]
  },
  {
   "cell_type": "code",
   "execution_count": 2,
   "metadata": {
    "slideshow": {
     "slide_type": "-"
    }
   },
   "outputs": [],
   "source": [
    "input_shape = [10]\n",
    "n_params = 1\n",
    "n_summaries = 1\n",
    "\n",
    "num_updates = 1000\n",
    "lam = np.float32(2.)\n",
    "F_ = []\n",
    "F_v_ = []"
   ]
  },
  {
   "cell_type": "markdown",
   "metadata": {
    "slideshow": {
     "slide_type": "slide"
    }
   },
   "source": [
    "### Keras is the way you 'should' do things\n",
    "We can build a model really easily"
   ]
  },
  {
   "cell_type": "code",
   "execution_count": 3,
   "metadata": {
    "slideshow": {
     "slide_type": "-"
    }
   },
   "outputs": [],
   "source": [
    "model = tf.keras.Sequential([\n",
    "    tf.keras.layers.Dense(128, activation=\"relu\"),\n",
    "    tf.keras.layers.Dense(128, activation=\"relu\"),\n",
    "    tf.keras.layers.Dense(n_summaries)\n",
    "])\n",
    "optimiser = tf.keras.optimizers.SGD()\n",
    "F_arr = tf.keras.metrics.Mean(name='F_arr')\n",
    "F_validation_arr = tf.keras.metrics.Mean(name='F_validation_arr')"
   ]
  },
  {
   "cell_type": "markdown",
   "metadata": {
    "slideshow": {
     "slide_type": "slide"
    }
   },
   "source": [
    "# Functions"
   ]
  },
  {
   "cell_type": "markdown",
   "metadata": {
    "slideshow": {
     "slide_type": "subslide"
    }
   },
   "source": [
    "Functions act both like actual functions, but also like graph building blocks.\n",
    "\n",
    "(technically you don't need to put `@tf.function()` before every function - but you need it before certain _important_ ones, but I don't know what they are."
   ]
  },
  {
   "cell_type": "code",
   "execution_count": 4,
   "metadata": {},
   "outputs": [],
   "source": [
    "@tf.function()\n",
    "def Fisher(dmdt, C):\n",
    "    invC = tf.linalg.inv(C)\n",
    "    return tf.matmul(tf.matmul(dmdt, invC), tf.transpose(dmdt))"
   ]
  },
  {
   "cell_type": "markdown",
   "metadata": {
    "slideshow": {
     "slide_type": "subslide"
    }
   },
   "source": [
    "We use normal TensorFlow-like language (whichever you like to write it).\n",
    "\n",
    "Here is our loss using a bunch of different interesting TensorFlow functions."
   ]
  },
  {
   "cell_type": "code",
   "execution_count": 5,
   "metadata": {},
   "outputs": [],
   "source": [
    "@tf.function()\n",
    "def loss(F, C, lam):\n",
    "    lndetF = tf.linalg.slogdet(F)\n",
    "    return tf.subtract(tf.multiply(lam, tf.norm(tf.subtract(C, tf.eye(n_summaries, dtype=tf.float32)), ord=\"euclidean\")), \n",
    "                       tf.multiply(lndetF[0], lndetF[1]))"
   ]
  },
  {
   "cell_type": "markdown",
   "metadata": {
    "slideshow": {
     "slide_type": "slide"
    }
   },
   "source": [
    "## Now lots of IMNN stuff\n",
    "\n",
    "Stop me if you want to know more"
   ]
  },
  {
   "cell_type": "code",
   "execution_count": 6,
   "metadata": {
    "slideshow": {
     "slide_type": "subslide"
    }
   },
   "outputs": [],
   "source": [
    "@tf.function()\n",
    "def covariance(x):\n",
    "    m = tf.reduce_mean(x, axis=0, keepdims=True)\n",
    "    mx = tf.matmul(tf.transpose(m), m)\n",
    "    vx = tf.divide(tf.matmul(tf.transpose(x), x), tf.cast(tf.shape(x)[0] - 1, tf.float32))\n",
    "    return tf.subtract(vx, mx)"
   ]
  },
  {
   "cell_type": "code",
   "execution_count": 7,
   "metadata": {},
   "outputs": [],
   "source": [
    "@tf.function()\n",
    "def mean_derivative(network_derivative, data_derivative):\n",
    "    return tf.reduce_mean(\n",
    "        tf.matmul(data_derivative, \n",
    "                  tf.transpose(\n",
    "                      network_derivative, \n",
    "                      tf.concat(\n",
    "                          [[0], tf.range(2, tf.rank(network_derivative)), [1]], 0))),\n",
    "        axis=0)"
   ]
  },
  {
   "cell_type": "markdown",
   "metadata": {
    "slideshow": {
     "slide_type": "slide"
    }
   },
   "source": [
    "# Automatic differentiation"
   ]
  },
  {
   "cell_type": "markdown",
   "metadata": {
    "slideshow": {
     "slide_type": "subslide"
    }
   },
   "source": [
    "### Auto-diff is infinitely deep and can be run on anything-(ish) and is really easy to call.\n",
    "\n",
    "It also has a bunch of easily callable useful functions"
   ]
  },
  {
   "cell_type": "markdown",
   "metadata": {},
   "source": [
    "On the IMNN-side we can get $\\displaystyle\\frac{\\partial\\mu_\\mathscr{f}}{\\partial\\theta_\\alpha}$ a bunch of different ways - easily."
   ]
  },
  {
   "cell_type": "code",
   "execution_count": 8,
   "metadata": {
    "slideshow": {
     "slide_type": "-"
    }
   },
   "outputs": [],
   "source": [
    "@tf.function()\n",
    "def sim_based_mean(d, dddt):\n",
    "    with tf.GradientTape() as tape:\n",
    "        tape.watch(d)\n",
    "        x = model(d)\n",
    "    dxdd = tape.batch_jacobian(x, d)\n",
    "    dmfdt = mean_derivative(dxdd, dddt)\n",
    "    return x, dmfdt"
   ]
  },
  {
   "cell_type": "code",
   "execution_count": 9,
   "metadata": {
    "slideshow": {
     "slide_type": "subslide"
    }
   },
   "outputs": [],
   "source": [
    "@tf.function()\n",
    "def provided_mean(m, dmdt):\n",
    "    with tf.GradientTape() as tape:\n",
    "        tape.watch(m)\n",
    "        mf = model(m)\n",
    "    dmfdm = tape.batch_jacobian(mf, m)\n",
    "    dmfdt = mean_derivative(dmfdm, dmdt)\n",
    "    return dmfdt"
   ]
  },
  {
   "cell_type": "code",
   "execution_count": 10,
   "metadata": {
    "slideshow": {
     "slide_type": "subslide"
    }
   },
   "outputs": [],
   "source": [
    "@tf.function()\n",
    "def numerical_mean(dp, dm, dt):\n",
    "    xp = model(dp)\n",
    "    xm = model(dm)\n",
    "    dxdt = tf.divide(tf.subtract(xp, xm), dt)\n",
    "    return tf.reduce_mean(dxdt, axis=0)"
   ]
  },
  {
   "cell_type": "code",
   "execution_count": 11,
   "metadata": {
    "slideshow": {
     "slide_type": "subslide"
    }
   },
   "outputs": [],
   "source": [
    "@tf.function()\n",
    "def summarise(d, dddt=None, m=None, dmdt=None, dp=None, dm=None, dt=None):\n",
    "    if dddt is not None:\n",
    "        x, dmfdt = sim_based_mean(d, dddt)\n",
    "    else:\n",
    "        x = model(d)\n",
    "        if m is not None and dmdt is not None:\n",
    "            dmfdt = provided_mean(m, dmdt)\n",
    "        elif dp is not None and dm is not None and dt is not None:\n",
    "            dmfdt = numerical_mean(dp, dm, dt)\n",
    "        else:\n",
    "            return None   \n",
    "    return x, dmfdt, covariance(x)"
   ]
  },
  {
   "cell_type": "markdown",
   "metadata": {
    "slideshow": {
     "slide_type": "slide"
    }
   },
   "source": [
    "# Training and testing are defined as their own functions"
   ]
  },
  {
   "cell_type": "markdown",
   "metadata": {
    "slideshow": {
     "slide_type": "subslide"
    }
   },
   "source": [
    "You can use `tf.GradientTape()` to calculate the gradients to update the weights using apply gradients."
   ]
  },
  {
   "cell_type": "code",
   "execution_count": 12,
   "metadata": {},
   "outputs": [],
   "source": [
    "@tf.function()\n",
    "def train_step(d, lam, dddt=None, m=None, dmdt=None, dp=None, dm=None, dt=None):\n",
    "    with tf.GradientTape() as g:\n",
    "        x, dmfdt, Cf = summarise(d, dddt=dddt, m=m, dmdt=dmdt, dp=dp, dm=dm, dt=dt)\n",
    "        F = Fisher(dmfdt, Cf)\n",
    "        L = loss(F, Cf, lam)\n",
    "    gradients = g.gradient(L, model.variables)\n",
    "    optimiser.apply_gradients(zip(gradients, model.variables))\n",
    "    F_arr(tf.linalg.det(F))"
   ]
  },
  {
   "cell_type": "markdown",
   "metadata": {
    "slideshow": {
     "slide_type": "subslide"
    }
   },
   "source": [
    "But you don't need the gradients for testing, so you don't ask for it."
   ]
  },
  {
   "cell_type": "code",
   "execution_count": 13,
   "metadata": {},
   "outputs": [],
   "source": [
    "@tf.function()\n",
    "def test_step(d, dddt=None, m=None, dmdt=None, dp=None, dm=None, dt=None):\n",
    "    x, dmfdt, Cf = summarise(d, dddt=dddt, m=m, dmdt=dmdt, dp=dp, dm=dm, dt=dt)\n",
    "    F = Fisher(dmfdt, Cf)\n",
    "    F_validation_arr(tf.linalg.det(F))  "
   ]
  },
  {
   "cell_type": "markdown",
   "metadata": {
    "slideshow": {
     "slide_type": "slide"
    }
   },
   "source": [
    "# Make data"
   ]
  },
  {
   "cell_type": "markdown",
   "metadata": {
    "slideshow": {
     "slide_type": "subslide"
    }
   },
   "source": [
    "Training data"
   ]
  },
  {
   "cell_type": "code",
   "execution_count": 14,
   "metadata": {
    "slideshow": {
     "slide_type": "-"
    }
   },
   "outputs": [],
   "source": [
    "seed = 0\n",
    "\n",
    "np.random.seed(seed)\n",
    "d_train = np.random.normal(0., 1., (1000, 10)).astype(np.float32)\n",
    "m_train = np.mean(d_train, axis=0)\n",
    "np.random.seed(seed)\n",
    "dp_train = np.random.normal(0., np.sqrt(1.05), (1000, 1, 10)).astype(np.float32)\n",
    "np.random.seed(seed)\n",
    "dm_train = np.random.normal(0., np.sqrt(0.95), (1000, 1, 10)).astype(np.float32)\n",
    "dt = np.float32(0.1)\n",
    "dddt_train = (dp_train - dm_train) / dt\n",
    "dmdt_train = np.mean(dddt_train, axis=0)\n",
    "np.random.seed()"
   ]
  },
  {
   "cell_type": "markdown",
   "metadata": {
    "slideshow": {
     "slide_type": "subslide"
    }
   },
   "source": [
    "Testing data"
   ]
  },
  {
   "cell_type": "code",
   "execution_count": 15,
   "metadata": {
    "slideshow": {
     "slide_type": "-"
    }
   },
   "outputs": [],
   "source": [
    "seed = 1\n",
    "\n",
    "np.random.seed(seed)\n",
    "d_test = np.random.normal(0., 1., (1000, 10)).astype(np.float32)\n",
    "m_test = np.mean(d_test, axis=0)\n",
    "np.random.seed(seed)\n",
    "dp_test = np.random.normal(0., np.sqrt(1.05), (1000, 1, 10)).astype(np.float32)\n",
    "np.random.seed(seed)\n",
    "dm_test = np.random.normal(0., np.sqrt(0.95), (1000, 1, 10)).astype(np.float32)\n",
    "dddt_test = (dp_test - dm_test) / dt\n",
    "dmdt_test = np.mean(dddt_test, axis=0)\n",
    "np.random.seed()"
   ]
  },
  {
   "cell_type": "code",
   "execution_count": 16,
   "metadata": {
    "slideshow": {
     "slide_type": "subslide"
    }
   },
   "outputs": [
    {
     "data": {
      "image/png": "[encoded data removed]",
      "text/plain": [
       "<Figure size 1080x360 with 2 Axes>"
      ]
     },
     "metadata": {
      "needs_background": "light"
     },
     "output_type": "display_data"
    }
   ],
   "source": [
    "fig, ax = plt.subplots(1, 2, figsize=(15, 5))\n",
    "train_ind = np.random.randint(1000)\n",
    "test_ind = np.random.randint(1000)\n",
    "ax[0].plot(d_train[train_ind], color=\"C0\")\n",
    "ax[0].plot(d_test[test_ind], color=\"C1\")\n",
    "ax[0].plot(m_train, color=\"C0\", linestyle=\":\")\n",
    "ax[0].plot(m_test, color=\"C1\", linestyle=\":\")\n",
    "ax[0].set_ylabel(\"${\\\\bf d}$\")\n",
    "ax[0].set_xticks([])\n",
    "ax[0].set_xlim((0, 9))\n",
    "ax[1].plot(dddt_train[train_ind, 0], color=\"C0\")\n",
    "ax[1].plot(dddt_test[test_ind, 0], color=\"C1\")\n",
    "ax[1].plot(dmdt_train[0], color=\"C0\", linestyle=\":\")\n",
    "ax[1].plot(dmdt_test[0], color=\"C1\", linestyle=\":\")\n",
    "ax[1].set_ylabel(\"$\\partial{\\\\bf d}/\\partial\\\\Sigma$\")\n",
    "ax[1].set_xticks([])\n",
    "ax[1].set_xlim((0, 9));"
   ]
  },
  {
   "cell_type": "markdown",
   "metadata": {
    "slideshow": {
     "slide_type": "slide"
    }
   },
   "source": [
    "# Run the training"
   ]
  },
  {
   "cell_type": "code",
   "execution_count": 18,
   "metadata": {
    "scrolled": true,
    "slideshow": {
     "slide_type": "subslide"
    }
   },
   "outputs": [
    {
     "data": {
      "application/vnd.jupyter.widget-view+json": {
       "model_id": "a0df529c267d4213a044de5a4ac74d5e",
       "version_major": 2,
       "version_minor": 0
      },
      "text/plain": [
       "HBox(children=(IntProgress(value=0, description='Updates', max=1000, style=ProgressStyle(description_width='in…"
      ]
     },
     "metadata": {},
     "output_type": "display_data"
    },
    {
     "name": "stderr",
     "output_type": "stream",
     "text": [
      "WARNING: Logging before flag parsing goes to stderr.\n",
      "W0322 15:32:57.847157 4448818624 deprecation.py:323] From /Users/charnock/envs/tensorflow-2/lib/python3.7/site-packages/tensorflow/python/ops/array_grad.py:425: to_int32 (from tensorflow.python.ops.math_ops) is deprecated and will be removed in a future version.\n",
      "Instructions for updating:\n",
      "Use `tf.cast` instead.\n"
     ]
    },
    {
     "name": "stdout",
     "output_type": "stream",
     "text": [
      "\n"
     ]
    }
   ],
   "source": [
    "bar = tqdm.tqdm_notebook(range(num_updates), desc=\"Updates\")\n",
    "for update in bar:\n",
    "    train_step(d_train, lam, dddt=dddt_train)\n",
    "    test_step(d_test, dddt=dddt_test)\n",
    "    F_.append(F_arr.result())\n",
    "    F_v_.append(F_validation_arr.result())\n",
    "    bar.set_postfix(F=format(F_[-1]), test_F=format(F_v_[-1]))"
   ]
  },
  {
   "cell_type": "code",
   "execution_count": 19,
   "metadata": {
    "slideshow": {
     "slide_type": "subslide"
    }
   },
   "outputs": [
    {
     "data": {
      "image/png": "[encoded data removed]",
      "text/plain": [
       "<Figure size 432x288 with 1 Axes>"
      ]
     },
     "metadata": {
      "needs_background": "light"
     },
     "output_type": "display_data"
    }
   ],
   "source": [
    "plt.plot(F_)\n",
    "plt.plot(F_v_)\n",
    "plt.xlabel(\"Weight updates\")\n",
    "plt.ylabel(\"${\\\\bf F}_{\\\\alpha\\\\beta}$\");"
   ]
  }
 ],
 "metadata": {
  "celltoolbar": "Diaporama",
  "kernelspec": {
   "display_name": "Python 3",
   "language": "python",
   "name": "python3"
  },
  "language_info": {
   "codemirror_mode": {
    "name": "ipython",
    "version": 3
   },
   "file_extension": ".py",
   "mimetype": "text/x-python",
   "name": "python",
   "nbconvert_exporter": "python",
   "pygments_lexer": "ipython3",
   "version": "3.7.2"
  }
 },
 "nbformat": 4,
 "nbformat_minor": 2
}
