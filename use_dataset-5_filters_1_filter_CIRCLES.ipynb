{
 "cells": [
  {
   "cell_type": "code",
   "execution_count": 3,
   "metadata": {},
   "outputs": [],
   "source": [
    "import numpy as np\n",
    "import tensorflow as tf\n",
    "import matplotlib.pyplot as plt\n",
    "import tensorflow as tf\n",
    "from IMNN import IMNN\n",
    "from IMNN.ABC import ABC, priors\n",
    "import pandas"
   ]
  },
  {
   "cell_type": "code",
   "execution_count": 2,
   "metadata": {},
   "outputs": [
    {
     "name": "stdout",
     "output_type": "stream",
     "text": [
      "TensorFlow version = 2.0.0\n",
      "IMNN version = 0.2a4\n"
     ]
    }
   ],
   "source": [
    "print(\"TensorFlow version =\", tf.__version__)\n",
    "print(\"IMNN version =\", IMNN.__version__)"
   ]
  },
  {
   "cell_type": "code",
   "execution_count": 76,
   "metadata": {},
   "outputs": [],
   "source": [
    "#LOAD OUR DATA\n",
    "d = np.load('DES_GalGal_ACTIVE/CONFIGURATION_1_images.npy') #fiducial\n",
    "d = d.transpose([0, 2, 3, 1])\n",
    "dlog = pandas.read_csv('DES_GalGal_ACTIVE/CONFIGURATION_1_metadata.csv')\n",
    "d1 = np.load('DES_GalGal_ACTIVE/CONFIGURATION_2_images.npy') #above\n",
    "d1 = d1.transpose([0, 2, 3, 1])\n",
    "d1log = pandas.read_csv('DES_GalGal_ACTIVE/CONFIGURATION_2_metadata.csv')\n",
    "d2 = np.load('DES_GalGal_ACTIVE/CONFIGURATION_3_images.npy') #bellow\n",
    "d2 = d2.transpose([0, 2, 3, 1])\n",
    "d2log = pandas.read_csv('DES_GalGal_ACTIVE/CONFIGURATION_3_metadata.csv')"
   ]
  },
  {
   "cell_type": "code",
   "execution_count": 77,
   "metadata": {},
   "outputs": [
    {
     "name": "stdout",
     "output_type": "stream",
     "text": [
      "(500, 100, 100, 5)\n"
     ]
    }
   ],
   "source": [
    "dtrain = d[:500]\n",
    "dtest = d[500:]\n",
    "print(np.shape(dtrain))"
   ]
  },
  {
   "cell_type": "code",
   "execution_count": 78,
   "metadata": {},
   "outputs": [
    {
     "name": "stdout",
     "output_type": "stream",
     "text": [
      "(1000, 1, 100, 100, 5)\n",
      "(1000, 1, 100, 100, 5)\n",
      "(1000, 1, 100, 100, 5)\n",
      "(500, 2, 1, 100, 100, 5)\n"
     ]
    }
   ],
   "source": [
    "#option with additional n_param dimension\n",
    "temp = [[]]*1000\n",
    "temp1 = [[]]*1000\n",
    "temp2 = [[]]*1000\n",
    "\n",
    "for i in range(len(d)):\n",
    "    temp[i] = [d[i]]\n",
    "d_shape = np.stack(temp)\n",
    "print(np.shape(d_shape))\n",
    "\n",
    "for i in range(len(d1)):\n",
    "    temp1[i] = [d1[i]]\n",
    "d1_shape = np.stack(temp)\n",
    "print(np.shape(d1_shape))\n",
    "\n",
    "for i in range(len(d2)):\n",
    "    temp2[i] = [d2[i]]\n",
    "d2_shape = np.stack(temp)\n",
    "print(np.shape(d2_shape))\n",
    "\n",
    "#produce tensor with simulations with theta above and bellow fiducial\n",
    "dd_dθ_num = np.concatenate([d2_shape[:, np.newaxis, ...], d1_shape[:, np.newaxis, ...]], axis=1)\n",
    "np.shape(dd_dθ_num)\n",
    "\n",
    "dd_dθ_num_train = dd_dθ_num[:500]\n",
    "dd_dθ_num_test = dd_dθ_num[500:]\n",
    "print(np.shape(dd_dθ_num_test))"
   ]
  },
  {
   "cell_type": "code",
   "execution_count": 79,
   "metadata": {},
   "outputs": [
    {
     "data": {
      "image/png": "[encoded data removed]",
      "text/plain": [
       "<Figure size 432x288 with 1 Axes>"
      ]
     },
     "metadata": {
      "needs_background": "light"
     },
     "output_type": "display_data"
    }
   ],
   "source": [
    "plt.hist(dtrain[0,:,:,0].flatten(), bins = 100,alpha = 0.3, range=[0,100])\n",
    "plt.hist(dtrain[0,:,:,1].flatten(), bins = 100,alpha = 0.3, range=[0,100])\n",
    "plt.hist(dtrain[0,:,:,2].flatten(), bins = 100, alpha = 0.3, range=[0,100])\n",
    "plt.hist(dtrain[0,:,:,3].flatten(), bins = 100, alpha = 0.3, range=[0,100])\n",
    "plt.hist(dtrain[0,:,:,4].flatten(), bins = 100, alpha = 0.3, range=[0,100])\n",
    "plt.show()"
   ]
  },
  {
   "cell_type": "code",
   "execution_count": 80,
   "metadata": {},
   "outputs": [
    {
     "data": {
      "image/png": "[encoded data removed]",
      "text/plain": [
       "<Figure size 432x288 with 1 Axes>"
      ]
     },
     "metadata": {
      "needs_background": "light"
     },
     "output_type": "display_data"
    },
    {
     "name": "stdout",
     "output_type": "stream",
     "text": [
      "Means for 5 filters are: 17.83199106153102 17.85929577651231 17.865154227221932 17.875073979140435 17.861848493593037\n",
      "Stds for 5 filters are: 33.55922508470346 34.739263897356444 35.57137059960916 34.26838354140535 35.759891906528026\n"
     ]
    }
   ],
   "source": [
    "plt.hist(dtrain[0,:,:,0].flatten(), bins = 100,alpha = 0.3)\n",
    "plt.hist(dtrain[0,:,:,1].flatten(), bins = 100,alpha = 0.3)\n",
    "plt.hist(dtrain[0,:,:,2].flatten(), bins = 100, alpha = 0.3)\n",
    "plt.hist(dtrain[0,:,:,3].flatten(), bins = 100, alpha = 0.3)\n",
    "plt.hist(dtrain[0,:,:,4].flatten(), bins = 100, alpha = 0.3)\n",
    "plt.show()\n",
    "print(\"Means for 5 filters are:\",d[0,:,:,0].mean(),d[0,:,:,1].mean(),d[0,:,:,2].mean(),d[0,:,:,3].mean(),d[0,:,:,4].mean())\n",
    "print(\"Stds for 5 filters are:\",d[0,:,:,0].std(),d[0,:,:,1].std(),d[0,:,:,2].std(),d[0,:,:,3].std(),d[0,:,:,4].std())"
   ]
  },
  {
   "cell_type": "markdown",
   "metadata": {},
   "source": [
    "# STANDARDIZED DATASET"
   ]
  },
  {
   "cell_type": "code",
   "execution_count": 81,
   "metadata": {},
   "outputs": [],
   "source": [
    "#Standardize images\n",
    "d_std = []\n",
    "tmp = np.zeros((1000,100,100,5))\n",
    "for i in range(0,1000):\n",
    "    for j in range(0,5):\n",
    "        tmp[i,:,:,j] = (d[i,:,:,j] - d[i,:,:,j].mean()) / d[i,:,:,j].std()\n",
    "d_std.append(tmp)\n",
    "d_standardized = d_std[0]\n",
    "\n",
    "\n",
    "d_std_1 = []\n",
    "tmp = np.zeros((1000,100,100,5))\n",
    "for i in range(0,1000):\n",
    "    for j in range(0,5):\n",
    "        tmp[i,:,:,j] = (d1[i,:,:,j] - d1[i,:,:,j].mean()) / d1[i,:,:,j].std()\n",
    "d_std_1.append(tmp)\n",
    "d_standardized_1 = d_std_1[0]\n",
    "\n",
    "\n",
    "d_std_2 = []\n",
    "tmp = np.zeros((1000,100,100,5))\n",
    "for i in range(0,1000):\n",
    "    for j in range(0,5):\n",
    "        tmp[i,:,:,j] = (d2[i,:,:,j] - d2[i,:,:,j].mean()) / d2[i,:,:,j].std()\n",
    "d_std_2.append(tmp)\n",
    "d_standardized_2 = d_std_2[0]"
   ]
  },
  {
   "cell_type": "code",
   "execution_count": 82,
   "metadata": {},
   "outputs": [
    {
     "data": {
      "image/png": "[encoded data removed]",
      "text/plain": [
       "<Figure size 432x288 with 1 Axes>"
      ]
     },
     "metadata": {
      "needs_background": "light"
     },
     "output_type": "display_data"
    }
   ],
   "source": [
    "plt.hist(d_standardized[0,:,:,0].flatten(), bins = 100,alpha = 0.3)\n",
    "plt.hist(d_standardized[0,:,:,1].flatten(), bins = 100,alpha = 0.3)\n",
    "plt.hist(d_standardized[0,:,:,2].flatten(), bins = 100, alpha = 0.3)\n",
    "plt.hist(d_standardized[0,:,:,3].flatten(), bins = 100, alpha = 0.3)\n",
    "plt.hist(d_standardized[0,:,:,4].flatten(), bins = 100, alpha = 0.3)\n",
    "plt.show()"
   ]
  },
  {
   "cell_type": "code",
   "execution_count": 83,
   "metadata": {},
   "outputs": [
    {
     "name": "stdout",
     "output_type": "stream",
     "text": [
      "(500, 100, 100, 5)\n"
     ]
    }
   ],
   "source": [
    "dtrain_s = d_standardized[:500]\n",
    "dtest_s = d_standardized[500:]\n",
    "print(np.shape(dtrain_s))"
   ]
  },
  {
   "cell_type": "code",
   "execution_count": 84,
   "metadata": {},
   "outputs": [
    {
     "name": "stdout",
     "output_type": "stream",
     "text": [
      "(1000, 1, 100, 100, 5)\n",
      "(1000, 1, 100, 100, 5)\n",
      "(1000, 1, 100, 100, 5)\n",
      "(500, 2, 1, 100, 100, 5)\n"
     ]
    }
   ],
   "source": [
    "#Standardized derivative datasets\n",
    "#option with additional n_param dimension\n",
    "temp = [[]]*1000\n",
    "temp1 = [[]]*1000\n",
    "temp2 = [[]]*1000\n",
    "\n",
    "for i in range(len(d)):\n",
    "    temp[i] = [d_standardized[i]]\n",
    "d_shape_s = np.stack(temp)\n",
    "print(np.shape(d_shape_s))\n",
    "\n",
    "for i in range(len(d1)):\n",
    "    temp1[i] = [d_standardized_1[i]]\n",
    "d1_shape_s = np.stack(temp)\n",
    "print(np.shape(d1_shape_s))\n",
    "\n",
    "for i in range(len(d2)):\n",
    "    temp2[i] = [d_standardized_2[i]]\n",
    "d2_shape_s = np.stack(temp)\n",
    "print(np.shape(d2_shape_s))\n",
    "\n",
    "#produce tensor with simulations with theta above and bellow fiducial\n",
    "dd_dθ_num_std = np.concatenate([d2_shape_s[:, np.newaxis, ...], d1_shape_s[:, np.newaxis, ...]], axis=1)\n",
    "np.shape(dd_dθ_num_std)\n",
    "\n",
    "dd_dθ_num_train_s = dd_dθ_num_std[:500]\n",
    "dd_dθ_num_test_s = dd_dθ_num_std[500:]\n",
    "print(np.shape(dd_dθ_num_test_s))"
   ]
  },
  {
   "cell_type": "markdown",
   "metadata": {},
   "source": [
    "# Normalized dataset"
   ]
  },
  {
   "cell_type": "code",
   "execution_count": 85,
   "metadata": {},
   "outputs": [],
   "source": [
    "#Normalize images\n",
    "d_norm = []\n",
    "tmp = np.zeros((1000,100,100,5))\n",
    "for i in range(0,1000):\n",
    "    for j in range(0,5):\n",
    "        tmp[i,:,:,j] = (d[i,:,:,j] - d[i,:,:,j].min()) / (d[i,:,:,j].max() - d[i,:,:,j].min())\n",
    "d_norm.append(tmp)\n",
    "d_normalized = d_norm[0]\n",
    "\n",
    "\n",
    "d_norm_1 = []\n",
    "tmp = np.zeros((1000,100,100,5))\n",
    "for i in range(0,1000):\n",
    "    for j in range(0,5):\n",
    "        tmp[i,:,:,j] = (d1[i,:,:,j] - d1[i,:,:,j].min()) / (d1[i,:,:,j].max() - d1[i,:,:,j].min())\n",
    "d_norm_1.append(tmp)\n",
    "d_normalized_1 = d_norm_1[0]\n",
    "\n",
    "\n",
    "d_norm_2 = []\n",
    "tmp = np.zeros((1000,100,100,5))\n",
    "for i in range(0,1000):\n",
    "    for j in range(0,5):\n",
    "        tmp[i,:,:,j] = (d2[i,:,:,j] - d2[i,:,:,j].min()) / (d2[i,:,:,j].max() - d2[i,:,:,j].min())\n",
    "d_norm_2.append(tmp)\n",
    "d_normalized_2 = d_norm_2[0]"
   ]
  },
  {
   "cell_type": "code",
   "execution_count": 86,
   "metadata": {},
   "outputs": [
    {
     "data": {
      "image/png": "[encoded data removed]",
      "text/plain": [
       "<Figure size 432x288 with 1 Axes>"
      ]
     },
     "metadata": {
      "needs_background": "light"
     },
     "output_type": "display_data"
    }
   ],
   "source": [
    "plt.hist(d_normalized[0,:,:,0].flatten(), bins = 100,alpha = 0.3)\n",
    "plt.hist(d_normalized[0,:,:,1].flatten(), bins = 100,alpha = 0.3)\n",
    "plt.hist(d_normalized[0,:,:,2].flatten(), bins = 100, alpha = 0.3)\n",
    "plt.hist(d_normalized[0,:,:,3].flatten(), bins = 100, alpha = 0.3)\n",
    "plt.hist(d_normalized[0,:,:,4].flatten(), bins = 100, alpha = 0.3)\n",
    "plt.show()"
   ]
  },
  {
   "cell_type": "code",
   "execution_count": 87,
   "metadata": {},
   "outputs": [
    {
     "name": "stdout",
     "output_type": "stream",
     "text": [
      "(500, 100, 100, 5)\n"
     ]
    }
   ],
   "source": [
    "dtrain_n = d_normalized[:500]\n",
    "dtest_n = d_normalized[500:]\n",
    "print(np.shape(dtrain_n))"
   ]
  },
  {
   "cell_type": "code",
   "execution_count": 88,
   "metadata": {},
   "outputs": [
    {
     "name": "stdout",
     "output_type": "stream",
     "text": [
      "(1000, 1, 100, 100, 5)\n",
      "(1000, 1, 100, 100, 5)\n",
      "(1000, 1, 100, 100, 5)\n",
      "(500, 2, 1, 100, 100, 5)\n"
     ]
    }
   ],
   "source": [
    "#Normalized derivative datasets\n",
    "#option with additional n_param dimension\n",
    "temp = [[]]*1000\n",
    "temp1 = [[]]*1000\n",
    "temp2 = [[]]*1000\n",
    "\n",
    "for i in range(len(d)):\n",
    "    temp[i] = [d_normalized[i]]\n",
    "d_shape_n = np.stack(temp)\n",
    "print(np.shape(d_shape_n))\n",
    "\n",
    "for i in range(len(d1)):\n",
    "    temp1[i] = [d_normalized_1[i]]\n",
    "d1_shape_n = np.stack(temp)\n",
    "print(np.shape(d1_shape_n))\n",
    "\n",
    "for i in range(len(d2)):\n",
    "    temp2[i] = [d_normalized_2[i]]\n",
    "d2_shape_n = np.stack(temp)\n",
    "print(np.shape(d2_shape_n))\n",
    "\n",
    "#produce tensor with simulations with theta above and bellow fiducial\n",
    "dd_dθ_num_norm = np.concatenate([d2_shape_n[:, np.newaxis, ...], d1_shape_n[:, np.newaxis, ...]], axis=1)\n",
    "np.shape(dd_dθ_num_norm)\n",
    "\n",
    "dd_dθ_num_train_n = dd_dθ_num_norm[:500]\n",
    "dd_dθ_num_test_n = dd_dθ_num_norm[500:]\n",
    "print(np.shape(dd_dθ_num_test_n))"
   ]
  },
  {
   "cell_type": "markdown",
   "metadata": {},
   "source": [
    "# Chechking mean and variance for all images in all filters "
   ]
  },
  {
   "cell_type": "code",
   "execution_count": 118,
   "metadata": {},
   "outputs": [
    {
     "data": {
      "text/plain": [
       "(1000, 2, 5)"
      ]
     },
     "execution_count": 118,
     "metadata": {},
     "output_type": "execute_result"
    }
   ],
   "source": [
    "#find variance of meand and std \n",
    "d_std_mean = []\n",
    "tmp = np.zeros((1000,2,5))\n",
    "for i in range(0,1000):\n",
    "    for j in range(0,5):\n",
    "        tmp[i,0,j] = d[i,:,:,j].mean()\n",
    "        tmp[i,1,j] = d[i,:,:,j].std()\n",
    "d_std_mean.append(tmp)\n",
    "d_st_m = d_std_mean[0]\n",
    "np.shape(d_st_m)"
   ]
  },
  {
   "cell_type": "code",
   "execution_count": 133,
   "metadata": {},
   "outputs": [
    {
     "data": {
      "image/png": "[encoded data removed]",
      "text/plain": [
       "<Figure size 432x288 with 1 Axes>"
      ]
     },
     "metadata": {
      "needs_background": "light"
     },
     "output_type": "display_data"
    }
   ],
   "source": [
    "#mean\n",
    "plt.hist(d_st_m[:,0,0], bins = 50, alpha = 0.5)\n",
    "plt.hist(d_st_m[:,0,1], bins = 50, alpha = 0.5)\n",
    "plt.hist(d_st_m[:,0,2], bins = 50, alpha = 0.5)\n",
    "plt.hist(d_st_m[:,0,3], bins = 50, alpha = 0.5)\n",
    "plt.hist(d_st_m[:,0,4], bins = 50, alpha = 0.5)\n",
    "plt.show()"
   ]
  },
  {
   "cell_type": "code",
   "execution_count": 131,
   "metadata": {},
   "outputs": [
    {
     "data": {
      "image/png": "[encoded data removed]",
      "text/plain": [
       "<Figure size 432x288 with 1 Axes>"
      ]
     },
     "metadata": {
      "needs_background": "light"
     },
     "output_type": "display_data"
    }
   ],
   "source": [
    "#std\n",
    "plt.hist(d_st_m[:,1,0], bins = 50, alpha = 0.5)\n",
    "plt.hist(d_st_m[:,1,1], bins = 50, alpha = 0.5)\n",
    "plt.hist(d_st_m[:,1,2], bins = 50, alpha = 0.5)\n",
    "plt.hist(d_st_m[:,1,3], bins = 50, alpha = 0.5)\n",
    "plt.hist(d_st_m[:,1,4], bins = 50, alpha = 0.5)\n",
    "plt.show()"
   ]
  },
  {
   "cell_type": "markdown",
   "metadata": {},
   "source": [
    "# One filter dataset"
   ]
  },
  {
   "cell_type": "code",
   "execution_count": 98,
   "metadata": {},
   "outputs": [],
   "source": [
    "dtrain1 = dtrain[:,:,:,0]\n",
    "dtest1 = dtest[:,:,:,0]\n",
    "dd_dθ_num_train1 = dd_dθ_num_train[:,:,:,:,:,0]\n",
    "dd_dθ_num_test1 = dd_dθ_num_test[:,:,:,:,:,0]\n",
    "\n",
    "dtrain_1n = dtrain_n[:,:,:,0]\n",
    "dtest_1n = dtest_n[:,:,:,0]\n",
    "dd_dθ_num_train_1n = dd_dθ_num_train_n[:,:,:,:,:,0]\n",
    "dd_dθ_num_test_1n = dd_dθ_num_test_n[:,:,:,:,:,0]\n",
    "\n",
    "dtrain_1s = dtrain_s[:,:,:,0]\n",
    "dtest_1s = dtest_s[:,:,:,0]\n",
    "dd_dθ_num_train_1s = dd_dθ_num_train_s[:,:,:,:,:,0]\n",
    "dd_dθ_num_test_1s = dd_dθ_num_test_s[:,:,:,:,:,0]"
   ]
  },
  {
   "cell_type": "code",
   "execution_count": 99,
   "metadata": {},
   "outputs": [],
   "source": [
    "#Reshape to be able to use in Conv2D layer\n",
    "dtrain1 = np.array([dtrain1])\n",
    "dtrain1 = dtrain1.transpose([1,2,3,0])\n",
    "dtest1 = np.array([dtest1])\n",
    "dtest1 = dtest1.transpose([1,2,3,0])\n",
    "\n",
    "dd_dθ_num_train1 = np.array([dd_dθ_num_train1])\n",
    "dd_dθ_num_train1 = dd_dθ_num_train1.transpose([1,2,3,4,5,0])\n",
    "dd_dθ_num_test1 = np.array([dd_dθ_num_test1])\n",
    "dd_dθ_num_test1 = dd_dθ_num_test1.transpose([1,2,3,4,5,0])\n",
    "\n",
    "\n",
    "dtrain_1n = np.array([dtrain_1n])\n",
    "dtrain_1n = dtrain_1n.transpose([1,2,3,0])\n",
    "dtest_1n = np.array([dtest_1n])\n",
    "dtest_1n = dtest_1n.transpose([1,2,3,0])\n",
    "\n",
    "dd_dθ_num_train_1n = np.array([dd_dθ_num_train_1n])\n",
    "dd_dθ_num_train_1n = dd_dθ_num_train_1n.transpose([1,2,3,4,5,0])\n",
    "dd_dθ_num_test_1n = np.array([dd_dθ_num_test_1n])\n",
    "dd_dθ_num_test_1n = dd_dθ_num_test_1n.transpose([1,2,3,4,5,0])\n",
    "\n",
    "\n",
    "dtrain_1s = np.array([dtrain_1s])\n",
    "dtrain_1s = dtrain_1s.transpose([1,2,3,0])\n",
    "dtest_1s = np.array([dtest_1s])\n",
    "dtest_1s = dtest_1s.transpose([1,2,3,0])\n",
    "\n",
    "dd_dθ_num_train_1s = np.array([dd_dθ_num_train_1s])\n",
    "dd_dθ_num_train_1s = dd_dθ_num_train_1s.transpose([1,2,3,4,5,0])\n",
    "dd_dθ_num_test_1s = np.array([dd_dθ_num_test_1s])\n",
    "dd_dθ_num_test_1s = dd_dθ_num_test_1s.transpose([1,2,3,4,5,0])"
   ]
  },
  {
   "cell_type": "code",
   "execution_count": 102,
   "metadata": {},
   "outputs": [
    {
     "name": "stdout",
     "output_type": "stream",
     "text": [
      "(500, 100, 100, 1)\n",
      "(500, 2, 1, 100, 100, 1)\n"
     ]
    }
   ],
   "source": [
    "print(np.shape(dtrain_1s))\n",
    "print(np.shape(dd_dθ_num_train_1s))"
   ]
  },
  {
   "cell_type": "markdown",
   "metadata": {},
   "source": [
    "# IMNN"
   ]
  },
  {
   "cell_type": "code",
   "execution_count": 15,
   "metadata": {},
   "outputs": [],
   "source": [
    "#input_shape = (100,100,5)\n",
    "input_shape = (100,100,1)\n",
    "n_params = 1\n",
    "n_summaries = 1\n",
    "n_s = 500\n",
    "n_d = 500\n",
    "#fiducial = np.array([5.0])\n",
    "#delta = np.array([0.1])\n",
    "fiducial = np.array([20.])\n",
    "delta = np.array([1.])"
   ]
  },
  {
   "cell_type": "code",
   "execution_count": 16,
   "metadata": {},
   "outputs": [],
   "source": [
    "class fiducial_generator:\n",
    "    def __init__(self, file):\n",
    "        self.file = file\n",
    "    def __call__(self, i):\n",
    "        data = np.load(self.file)\n",
    "        yield data[i], i\n",
    "        \n",
    "class derivative_generator:\n",
    "    def __init__(self, file):\n",
    "        self.file = file\n",
    "    def __call__(self, i, j, k):\n",
    "        data = np.load(self.file)\n",
    "        yield data[i, j, k], (i, j, k)"
   ]
  },
  {
   "cell_type": "code",
   "execution_count": 17,
   "metadata": {},
   "outputs": [
    {
     "name": "stdout",
     "output_type": "stream",
     "text": [
      "n_params = 1\n",
      "n_summaries = 1\n",
      "n_s = 500\n",
      "n_d = 500\n",
      "input_shape = (100, 100, 1)\n",
      "θ_fid = [20.]\n",
      "δθ = [1.]\n"
     ]
    }
   ],
   "source": [
    "print(\"n_params =\", n_params)\n",
    "print(\"n_summaries =\", n_summaries)\n",
    "print(\"n_s =\", n_s)\n",
    "print(\"n_d =\", n_d)\n",
    "print(\"input_shape =\", input_shape)\n",
    "print(\"θ_fid =\", fiducial)\n",
    "print(\"δθ =\", delta)"
   ]
  },
  {
   "cell_type": "code",
   "execution_count": 18,
   "metadata": {},
   "outputs": [],
   "source": [
    "class LeakyReLU(tf.keras.layers.Layer):\n",
    "    def __init__(self, α, **kwargs):\n",
    "        self.α = α\n",
    "        super(LeakyReLU, self).__init__(**kwargs)\n",
    "    def build(self, input_shape):\n",
    "        super(LeakyReLU, self).build(input_shape)\n",
    "    def call(self, x):\n",
    "        return tf.where(tf.greater(x, 0) , x=x, y=tf.multiply(self.α, x))\n",
    "    def compute_output_shape(self, input_shape):\n",
    "        return input_shape"
   ]
  },
  {
   "cell_type": "code",
   "execution_count": 56,
   "metadata": {},
   "outputs": [
    {
     "name": "stdout",
     "output_type": "stream",
     "text": [
      "Model: \"sequential_3\"\n",
      "_________________________________________________________________\n",
      "Layer (type)                 Output Shape              Param #   \n",
      "=================================================================\n",
      "conv2d_8 (Conv2D)            (None, 50, 50, 16)        160       \n",
      "_________________________________________________________________\n",
      "leaky_re_lu_14 (LeakyReLU)   (None, 50, 50, 16)        0         \n",
      "_________________________________________________________________\n",
      "conv2d_9 (Conv2D)            (None, 25, 25, 32)        4640      \n",
      "_________________________________________________________________\n",
      "leaky_re_lu_15 (LeakyReLU)   (None, 25, 25, 32)        0         \n",
      "_________________________________________________________________\n",
      "flatten_3 (Flatten)          (None, 20000)             0         \n",
      "_________________________________________________________________\n",
      "dense_9 (Dense)              (None, 32)                640032    \n",
      "_________________________________________________________________\n",
      "leaky_re_lu_16 (LeakyReLU)   (None, 32)                0         \n",
      "_________________________________________________________________\n",
      "dense_10 (Dense)             (None, 1)                 33        \n",
      "=================================================================\n",
      "Total params: 644,865\n",
      "Trainable params: 644,865\n",
      "Non-trainable params: 0\n",
      "_________________________________________________________________\n"
     ]
    }
   ],
   "source": [
    "#MY MODEL THAT WILL WORK WITH IMAGES FROM LENSING SIMULATOR\n",
    "model = tf.keras.Sequential(\n",
    "    [tf.keras.Input(shape=input_shape),\n",
    "#     tf.keras.layers.Conv2D(8, (5, 5), strides=2, padding=\"same\"),#, kernel_regularizer=tf.keras.regularizers.l2(100)),\n",
    "#     LeakyReLU(0.01),\n",
    "#     tf.keras.layers.BatchNormalization(),\n",
    "     tf.keras.layers.Conv2D(16, (3, 3), strides=2, padding=\"same\"),#, kernel_regularizer=tf.keras.regularizers.l2(100)),\n",
    "     LeakyReLU(0.01),\n",
    "#     tf.keras.layers.BatchNormalization(),\n",
    "     tf.keras.layers.Conv2D(32, (3, 3), strides=2, padding=\"same\"),#, kernel_regularizer=tf.keras.regularizers.l2(100)),\n",
    "     LeakyReLU(0.01),\n",
    "#     tf.keras.layers.BatchNormalization(),\n",
    "     tf.keras.layers.Flatten(),\n",
    "#     tf.keras.layers.Dense(128),#,kernel_regularizer=tf.keras.regularizers.l2(100)),\n",
    "#     LeakyReLU(0.01),\n",
    "     tf.keras.layers.Dense(32),#,kernel_regularizer=tf.keras.regularizers.l2(100)),\n",
    "     LeakyReLU(0.01),\n",
    "     tf.keras.layers.Dense(n_summaries),\n",
    "    ])\n",
    "opt = tf.keras.optimizers.Adam(learning_rate=0.01)\n",
    "model.summary()"
   ]
  },
  {
   "cell_type": "code",
   "execution_count": 57,
   "metadata": {},
   "outputs": [
    {
     "name": "stdout",
     "output_type": "stream",
     "text": [
      "input shape will be (100, 100, 1)\n",
      "saving model to model\n",
      "INFO:tensorflow:Assets written to: model/assets\n"
     ]
    }
   ],
   "source": [
    "imnn = IMNN.IMNN(n_s=n_s, n_d=n_d, n_params=n_params, n_summaries=n_summaries, input_shape=input_shape,\n",
    "                 model=model, optimiser=opt, θ_fid=fiducial, δθ=delta, \n",
    "                 fiducial_loader=dtrain_1n, \n",
    "                 derivative_loader=dd_dθ_num_train_1n,\n",
    "                 validation_fiducial_loader=dtest_1n, \n",
    "                 validation_derivative_loader=dd_dθ_num_test_1n,\n",
    "                 at_once=500,\n",
    "                 map_fn=None, check_shape=True,\n",
    "                 verbose=True, filename=\"model\", save=True)"
   ]
  },
  {
   "cell_type": "code",
   "execution_count": 58,
   "metadata": {},
   "outputs": [
    {
     "name": "stdout",
     "output_type": "stream",
     "text": [
      "Using patience length of 10. Maximum number of training iterations is 10000000000.\n",
      "Saving current model in model\n",
      "INFO:tensorflow:Assets written to: model/assets\n"
     ]
    },
    {
     "data": {
      "application/vnd.jupyter.widget-view+json": {
       "model_id": "805e65ddb27945ef8790829659e86d1f",
       "version_major": 2,
       "version_minor": 0
      },
      "text/plain": [
       "HBox(children=(IntProgress(value=0, description='Iterations', max=10000000000, style=ProgressStyle(description…"
      ]
     },
     "metadata": {},
     "output_type": "display_data"
    },
    {
     "ename": "InvalidArgumentError",
     "evalue": " Input is not invertible.\n\t [[node MatrixInverse (defined at /opt/anaconda3/lib/python3.7/site-packages/tensorflow_core/python/framework/ops.py:1751) ]] [Op:__inference_fast_train_18294]\n\nFunction call stack:\nfast_train\n",
     "output_type": "error",
     "traceback": [
      "\u001b[0;31m---------------------------------------------------------------------------\u001b[0m",
      "\u001b[0;31mInvalidArgumentError\u001b[0m                      Traceback (most recent call last)",
      "\u001b[0;32m<ipython-input-58-31e0846366a1>\u001b[0m in \u001b[0;36m<module>\u001b[0;34m\u001b[0m\n\u001b[0;32m----> 1\u001b[0;31m \u001b[0mimnn\u001b[0m\u001b[0;34m.\u001b[0m\u001b[0mfit\u001b[0m\u001b[0;34m(\u001b[0m\u001b[0;32mNone\u001b[0m\u001b[0;34m,\u001b[0m \u001b[0mλ\u001b[0m\u001b[0;34m=\u001b[0m\u001b[0;36m10.\u001b[0m\u001b[0;34m,\u001b[0m \u001b[0mϵ\u001b[0m\u001b[0;34m=\u001b[0m\u001b[0;36m0.01\u001b[0m\u001b[0;34m,\u001b[0m \u001b[0mpatience\u001b[0m\u001b[0;34m=\u001b[0m\u001b[0;36m10\u001b[0m\u001b[0;34m,\u001b[0m \u001b[0mmin_iterations\u001b[0m\u001b[0;34m=\u001b[0m\u001b[0;36m1000\u001b[0m\u001b[0;34m)\u001b[0m\u001b[0;34m\u001b[0m\u001b[0;34m\u001b[0m\u001b[0m\n\u001b[0m",
      "\u001b[0;32m~/Desktop/DeepSkies/Liklehood-free-Lensing/IMNN-0.2a4/IMNN/IMNN.py\u001b[0m in \u001b[0;36mfit\u001b[0;34m(self, n_iterations, λ, ε, reset, patience, checkpoint, min_iterations, tqdm_notebook)\u001b[0m\n\u001b[1;32m   1498\u001b[0m             \u001b[0mself\u001b[0m\u001b[0;34m.\u001b[0m\u001b[0mF\u001b[0m\u001b[0;34m,\u001b[0m \u001b[0mself\u001b[0m\u001b[0;34m.\u001b[0m\u001b[0mC\u001b[0m\u001b[0;34m,\u001b[0m \u001b[0mself\u001b[0m\u001b[0;34m.\u001b[0m\u001b[0mCinv\u001b[0m\u001b[0;34m,\u001b[0m \u001b[0mself\u001b[0m\u001b[0;34m.\u001b[0m\u001b[0mμ\u001b[0m\u001b[0;34m,\u001b[0m \u001b[0mself\u001b[0m\u001b[0;34m.\u001b[0m\u001b[0mdμ_dθ\u001b[0m\u001b[0;34m,\u001b[0m \u001b[0mself\u001b[0m\u001b[0;34m.\u001b[0m\u001b[0mreg\u001b[0m\u001b[0;34m,\u001b[0m \u001b[0mself\u001b[0m\u001b[0;34m.\u001b[0m\u001b[0mr\u001b[0m \u001b[0;34m=\u001b[0m\u001b[0;31m \u001b[0m\u001b[0;31m\\\u001b[0m\u001b[0;34m\u001b[0m\u001b[0;34m\u001b[0m\u001b[0m\n\u001b[1;32m   1499\u001b[0m                 self.trainer(self.F, self.C, self.Cinv, self.μ, self.dμ_dθ,\n\u001b[0;32m-> 1500\u001b[0;31m                              self.reg, self.r)\n\u001b[0m\u001b[1;32m   1501\u001b[0m             \u001b[0mself\u001b[0m\u001b[0;34m.\u001b[0m\u001b[0mhistory\u001b[0m\u001b[0;34m[\u001b[0m\u001b[0;34m\"det_F\"\u001b[0m\u001b[0;34m]\u001b[0m\u001b[0;34m.\u001b[0m\u001b[0mappend\u001b[0m\u001b[0;34m(\u001b[0m\u001b[0mtf\u001b[0m\u001b[0;34m.\u001b[0m\u001b[0mlinalg\u001b[0m\u001b[0;34m.\u001b[0m\u001b[0mdet\u001b[0m\u001b[0;34m(\u001b[0m\u001b[0mself\u001b[0m\u001b[0;34m.\u001b[0m\u001b[0mF\u001b[0m\u001b[0;34m)\u001b[0m\u001b[0;34m.\u001b[0m\u001b[0mnumpy\u001b[0m\u001b[0;34m(\u001b[0m\u001b[0;34m)\u001b[0m\u001b[0;34m)\u001b[0m\u001b[0;34m\u001b[0m\u001b[0;34m\u001b[0m\u001b[0m\n\u001b[1;32m   1502\u001b[0m             \u001b[0mself\u001b[0m\u001b[0;34m.\u001b[0m\u001b[0mhistory\u001b[0m\u001b[0;34m[\u001b[0m\u001b[0;34m\"det_C\"\u001b[0m\u001b[0;34m]\u001b[0m\u001b[0;34m.\u001b[0m\u001b[0mappend\u001b[0m\u001b[0;34m(\u001b[0m\u001b[0mtf\u001b[0m\u001b[0;34m.\u001b[0m\u001b[0mlinalg\u001b[0m\u001b[0;34m.\u001b[0m\u001b[0mdet\u001b[0m\u001b[0;34m(\u001b[0m\u001b[0mself\u001b[0m\u001b[0;34m.\u001b[0m\u001b[0mC\u001b[0m\u001b[0;34m)\u001b[0m\u001b[0;34m.\u001b[0m\u001b[0mnumpy\u001b[0m\u001b[0;34m(\u001b[0m\u001b[0;34m)\u001b[0m\u001b[0;34m)\u001b[0m\u001b[0;34m\u001b[0m\u001b[0;34m\u001b[0m\u001b[0m\n",
      "\u001b[0;32m/opt/anaconda3/lib/python3.7/site-packages/tensorflow_core/python/eager/def_function.py\u001b[0m in \u001b[0;36m__call__\u001b[0;34m(self, *args, **kwds)\u001b[0m\n\u001b[1;32m    455\u001b[0m \u001b[0;34m\u001b[0m\u001b[0m\n\u001b[1;32m    456\u001b[0m     \u001b[0mtracing_count\u001b[0m \u001b[0;34m=\u001b[0m \u001b[0mself\u001b[0m\u001b[0;34m.\u001b[0m\u001b[0m_get_tracing_count\u001b[0m\u001b[0;34m(\u001b[0m\u001b[0;34m)\u001b[0m\u001b[0;34m\u001b[0m\u001b[0;34m\u001b[0m\u001b[0m\n\u001b[0;32m--> 457\u001b[0;31m     \u001b[0mresult\u001b[0m \u001b[0;34m=\u001b[0m \u001b[0mself\u001b[0m\u001b[0;34m.\u001b[0m\u001b[0m_call\u001b[0m\u001b[0;34m(\u001b[0m\u001b[0;34m*\u001b[0m\u001b[0margs\u001b[0m\u001b[0;34m,\u001b[0m \u001b[0;34m**\u001b[0m\u001b[0mkwds\u001b[0m\u001b[0;34m)\u001b[0m\u001b[0;34m\u001b[0m\u001b[0;34m\u001b[0m\u001b[0m\n\u001b[0m\u001b[1;32m    458\u001b[0m     \u001b[0;32mif\u001b[0m \u001b[0mtracing_count\u001b[0m \u001b[0;34m==\u001b[0m \u001b[0mself\u001b[0m\u001b[0;34m.\u001b[0m\u001b[0m_get_tracing_count\u001b[0m\u001b[0;34m(\u001b[0m\u001b[0;34m)\u001b[0m\u001b[0;34m:\u001b[0m\u001b[0;34m\u001b[0m\u001b[0;34m\u001b[0m\u001b[0m\n\u001b[1;32m    459\u001b[0m       \u001b[0mself\u001b[0m\u001b[0;34m.\u001b[0m\u001b[0m_call_counter\u001b[0m\u001b[0;34m.\u001b[0m\u001b[0mcalled_without_tracing\u001b[0m\u001b[0;34m(\u001b[0m\u001b[0;34m)\u001b[0m\u001b[0;34m\u001b[0m\u001b[0;34m\u001b[0m\u001b[0m\n",
      "\u001b[0;32m/opt/anaconda3/lib/python3.7/site-packages/tensorflow_core/python/eager/def_function.py\u001b[0m in \u001b[0;36m_call\u001b[0;34m(self, *args, **kwds)\u001b[0m\n\u001b[1;32m    518\u001b[0m         \u001b[0;31m# Lifting succeeded, so variables are initialized and we can run the\u001b[0m\u001b[0;34m\u001b[0m\u001b[0;34m\u001b[0m\u001b[0;34m\u001b[0m\u001b[0m\n\u001b[1;32m    519\u001b[0m         \u001b[0;31m# stateless function.\u001b[0m\u001b[0;34m\u001b[0m\u001b[0;34m\u001b[0m\u001b[0;34m\u001b[0m\u001b[0m\n\u001b[0;32m--> 520\u001b[0;31m         \u001b[0;32mreturn\u001b[0m \u001b[0mself\u001b[0m\u001b[0;34m.\u001b[0m\u001b[0m_stateless_fn\u001b[0m\u001b[0;34m(\u001b[0m\u001b[0;34m*\u001b[0m\u001b[0margs\u001b[0m\u001b[0;34m,\u001b[0m \u001b[0;34m**\u001b[0m\u001b[0mkwds\u001b[0m\u001b[0;34m)\u001b[0m\u001b[0;34m\u001b[0m\u001b[0;34m\u001b[0m\u001b[0m\n\u001b[0m\u001b[1;32m    521\u001b[0m     \u001b[0;32melse\u001b[0m\u001b[0;34m:\u001b[0m\u001b[0;34m\u001b[0m\u001b[0;34m\u001b[0m\u001b[0m\n\u001b[1;32m    522\u001b[0m       \u001b[0mcanon_args\u001b[0m\u001b[0;34m,\u001b[0m \u001b[0mcanon_kwds\u001b[0m \u001b[0;34m=\u001b[0m\u001b[0;31m \u001b[0m\u001b[0;31m\\\u001b[0m\u001b[0;34m\u001b[0m\u001b[0;34m\u001b[0m\u001b[0m\n",
      "\u001b[0;32m/opt/anaconda3/lib/python3.7/site-packages/tensorflow_core/python/eager/function.py\u001b[0m in \u001b[0;36m__call__\u001b[0;34m(self, *args, **kwargs)\u001b[0m\n\u001b[1;32m   1821\u001b[0m     \u001b[0;34m\"\"\"Calls a graph function specialized to the inputs.\"\"\"\u001b[0m\u001b[0;34m\u001b[0m\u001b[0;34m\u001b[0m\u001b[0m\n\u001b[1;32m   1822\u001b[0m     \u001b[0mgraph_function\u001b[0m\u001b[0;34m,\u001b[0m \u001b[0margs\u001b[0m\u001b[0;34m,\u001b[0m \u001b[0mkwargs\u001b[0m \u001b[0;34m=\u001b[0m \u001b[0mself\u001b[0m\u001b[0;34m.\u001b[0m\u001b[0m_maybe_define_function\u001b[0m\u001b[0;34m(\u001b[0m\u001b[0margs\u001b[0m\u001b[0;34m,\u001b[0m \u001b[0mkwargs\u001b[0m\u001b[0;34m)\u001b[0m\u001b[0;34m\u001b[0m\u001b[0;34m\u001b[0m\u001b[0m\n\u001b[0;32m-> 1823\u001b[0;31m     \u001b[0;32mreturn\u001b[0m \u001b[0mgraph_function\u001b[0m\u001b[0;34m.\u001b[0m\u001b[0m_filtered_call\u001b[0m\u001b[0;34m(\u001b[0m\u001b[0margs\u001b[0m\u001b[0;34m,\u001b[0m \u001b[0mkwargs\u001b[0m\u001b[0;34m)\u001b[0m  \u001b[0;31m# pylint: disable=protected-access\u001b[0m\u001b[0;34m\u001b[0m\u001b[0;34m\u001b[0m\u001b[0m\n\u001b[0m\u001b[1;32m   1824\u001b[0m \u001b[0;34m\u001b[0m\u001b[0m\n\u001b[1;32m   1825\u001b[0m   \u001b[0;34m@\u001b[0m\u001b[0mproperty\u001b[0m\u001b[0;34m\u001b[0m\u001b[0;34m\u001b[0m\u001b[0m\n",
      "\u001b[0;32m/opt/anaconda3/lib/python3.7/site-packages/tensorflow_core/python/eager/function.py\u001b[0m in \u001b[0;36m_filtered_call\u001b[0;34m(self, args, kwargs)\u001b[0m\n\u001b[1;32m   1139\u001b[0m          if isinstance(t, (ops.Tensor,\n\u001b[1;32m   1140\u001b[0m                            resource_variable_ops.BaseResourceVariable))),\n\u001b[0;32m-> 1141\u001b[0;31m         self.captured_inputs)\n\u001b[0m\u001b[1;32m   1142\u001b[0m \u001b[0;34m\u001b[0m\u001b[0m\n\u001b[1;32m   1143\u001b[0m   \u001b[0;32mdef\u001b[0m \u001b[0m_call_flat\u001b[0m\u001b[0;34m(\u001b[0m\u001b[0mself\u001b[0m\u001b[0;34m,\u001b[0m \u001b[0margs\u001b[0m\u001b[0;34m,\u001b[0m \u001b[0mcaptured_inputs\u001b[0m\u001b[0;34m,\u001b[0m \u001b[0mcancellation_manager\u001b[0m\u001b[0;34m=\u001b[0m\u001b[0;32mNone\u001b[0m\u001b[0;34m)\u001b[0m\u001b[0;34m:\u001b[0m\u001b[0;34m\u001b[0m\u001b[0;34m\u001b[0m\u001b[0m\n",
      "\u001b[0;32m/opt/anaconda3/lib/python3.7/site-packages/tensorflow_core/python/eager/function.py\u001b[0m in \u001b[0;36m_call_flat\u001b[0;34m(self, args, captured_inputs, cancellation_manager)\u001b[0m\n\u001b[1;32m   1222\u001b[0m     \u001b[0;32mif\u001b[0m \u001b[0mexecuting_eagerly\u001b[0m\u001b[0;34m:\u001b[0m\u001b[0;34m\u001b[0m\u001b[0;34m\u001b[0m\u001b[0m\n\u001b[1;32m   1223\u001b[0m       flat_outputs = forward_function.call(\n\u001b[0;32m-> 1224\u001b[0;31m           ctx, args, cancellation_manager=cancellation_manager)\n\u001b[0m\u001b[1;32m   1225\u001b[0m     \u001b[0;32melse\u001b[0m\u001b[0;34m:\u001b[0m\u001b[0;34m\u001b[0m\u001b[0;34m\u001b[0m\u001b[0m\n\u001b[1;32m   1226\u001b[0m       \u001b[0mgradient_name\u001b[0m \u001b[0;34m=\u001b[0m \u001b[0mself\u001b[0m\u001b[0;34m.\u001b[0m\u001b[0m_delayed_rewrite_functions\u001b[0m\u001b[0;34m.\u001b[0m\u001b[0mregister\u001b[0m\u001b[0;34m(\u001b[0m\u001b[0;34m)\u001b[0m\u001b[0;34m\u001b[0m\u001b[0;34m\u001b[0m\u001b[0m\n",
      "\u001b[0;32m/opt/anaconda3/lib/python3.7/site-packages/tensorflow_core/python/eager/function.py\u001b[0m in \u001b[0;36mcall\u001b[0;34m(self, ctx, args, cancellation_manager)\u001b[0m\n\u001b[1;32m    509\u001b[0m               \u001b[0minputs\u001b[0m\u001b[0;34m=\u001b[0m\u001b[0margs\u001b[0m\u001b[0;34m,\u001b[0m\u001b[0;34m\u001b[0m\u001b[0;34m\u001b[0m\u001b[0m\n\u001b[1;32m    510\u001b[0m               \u001b[0mattrs\u001b[0m\u001b[0;34m=\u001b[0m\u001b[0;34m(\u001b[0m\u001b[0;34m\"executor_type\"\u001b[0m\u001b[0;34m,\u001b[0m \u001b[0mexecutor_type\u001b[0m\u001b[0;34m,\u001b[0m \u001b[0;34m\"config_proto\"\u001b[0m\u001b[0;34m,\u001b[0m \u001b[0mconfig\u001b[0m\u001b[0;34m)\u001b[0m\u001b[0;34m,\u001b[0m\u001b[0;34m\u001b[0m\u001b[0;34m\u001b[0m\u001b[0m\n\u001b[0;32m--> 511\u001b[0;31m               ctx=ctx)\n\u001b[0m\u001b[1;32m    512\u001b[0m         \u001b[0;32melse\u001b[0m\u001b[0;34m:\u001b[0m\u001b[0;34m\u001b[0m\u001b[0;34m\u001b[0m\u001b[0m\n\u001b[1;32m    513\u001b[0m           outputs = execute.execute_with_cancellation(\n",
      "\u001b[0;32m/opt/anaconda3/lib/python3.7/site-packages/tensorflow_core/python/eager/execute.py\u001b[0m in \u001b[0;36mquick_execute\u001b[0;34m(op_name, num_outputs, inputs, attrs, ctx, name)\u001b[0m\n\u001b[1;32m     65\u001b[0m     \u001b[0;32melse\u001b[0m\u001b[0;34m:\u001b[0m\u001b[0;34m\u001b[0m\u001b[0;34m\u001b[0m\u001b[0m\n\u001b[1;32m     66\u001b[0m       \u001b[0mmessage\u001b[0m \u001b[0;34m=\u001b[0m \u001b[0me\u001b[0m\u001b[0;34m.\u001b[0m\u001b[0mmessage\u001b[0m\u001b[0;34m\u001b[0m\u001b[0;34m\u001b[0m\u001b[0m\n\u001b[0;32m---> 67\u001b[0;31m     \u001b[0msix\u001b[0m\u001b[0;34m.\u001b[0m\u001b[0mraise_from\u001b[0m\u001b[0;34m(\u001b[0m\u001b[0mcore\u001b[0m\u001b[0;34m.\u001b[0m\u001b[0m_status_to_exception\u001b[0m\u001b[0;34m(\u001b[0m\u001b[0me\u001b[0m\u001b[0;34m.\u001b[0m\u001b[0mcode\u001b[0m\u001b[0;34m,\u001b[0m \u001b[0mmessage\u001b[0m\u001b[0;34m)\u001b[0m\u001b[0;34m,\u001b[0m \u001b[0;32mNone\u001b[0m\u001b[0;34m)\u001b[0m\u001b[0;34m\u001b[0m\u001b[0;34m\u001b[0m\u001b[0m\n\u001b[0m\u001b[1;32m     68\u001b[0m   \u001b[0;32mexcept\u001b[0m \u001b[0mTypeError\u001b[0m \u001b[0;32mas\u001b[0m \u001b[0me\u001b[0m\u001b[0;34m:\u001b[0m\u001b[0;34m\u001b[0m\u001b[0;34m\u001b[0m\u001b[0m\n\u001b[1;32m     69\u001b[0m     keras_symbolic_tensors = [\n",
      "\u001b[0;32m/opt/anaconda3/lib/python3.7/site-packages/six.py\u001b[0m in \u001b[0;36mraise_from\u001b[0;34m(value, from_value)\u001b[0m\n",
      "\u001b[0;31mInvalidArgumentError\u001b[0m:  Input is not invertible.\n\t [[node MatrixInverse (defined at /opt/anaconda3/lib/python3.7/site-packages/tensorflow_core/python/framework/ops.py:1751) ]] [Op:__inference_fast_train_18294]\n\nFunction call stack:\nfast_train\n"
     ]
    }
   ],
   "source": [
    "imnn.fit(None, λ=10., ϵ=0.01, patience=10, min_iterations=1000)"
   ]
  },
  {
   "cell_type": "code",
   "execution_count": 41,
   "metadata": {},
   "outputs": [
    {
     "data": {
      "text/plain": [
       "[<matplotlib.lines.Line2D at 0x216bbfd90>]"
      ]
     },
     "execution_count": 41,
     "metadata": {},
     "output_type": "execute_result"
    },
    {
     "data": {
      "image/png": "[encoded data removed]",
      "text/plain": [
       "<Figure size 432x288 with 1 Axes>"
      ]
     },
     "metadata": {
      "needs_background": "light"
     },
     "output_type": "display_data"
    }
   ],
   "source": [
    "plt.plot(imnn.history[\"det_F\"])\n",
    "plt.plot(imnn.history[\"val_det_F\"])"
   ]
  },
  {
   "cell_type": "markdown",
   "metadata": {},
   "source": [
    "# One filter circles"
   ]
  },
  {
   "cell_type": "code",
   "execution_count": 4,
   "metadata": {},
   "outputs": [],
   "source": [
    "#LOAD OUR DATA\n",
    "d = np.load('DES_GalGal_ACTIVE/circles.npy') #fiducial\n",
    "d1 = np.load('DES_GalGal_ACTIVE/circles_up.npy') #above\n",
    "d2 = np.load('DES_GalGal_ACTIVE/circles_down.npy') #bellow"
   ]
  },
  {
   "cell_type": "code",
   "execution_count": 6,
   "metadata": {},
   "outputs": [
    {
     "data": {
      "text/plain": [
       "(1000, 2)"
      ]
     },
     "execution_count": 6,
     "metadata": {},
     "output_type": "execute_result"
    }
   ],
   "source": [
    "#find variance of meand and std \n",
    "d_std_mean = []\n",
    "tmp = np.zeros((1000,2))\n",
    "for i in range(0,1000):\n",
    "        tmp[i,0] = d[i,:,:,:].mean()\n",
    "        tmp[i,1] = d[i,:,:,:].std()\n",
    "d_std_mean.append(tmp)\n",
    "d_st_m = d_std_mean[0]\n",
    "np.shape(d_st_m)"
   ]
  },
  {
   "cell_type": "code",
   "execution_count": 48,
   "metadata": {},
   "outputs": [
    {
     "data": {
      "image/png": "[encoded data removed]",
      "text/plain": [
       "<Figure size 432x288 with 1 Axes>"
      ]
     },
     "metadata": {
      "needs_background": "light"
     },
     "output_type": "display_data"
    }
   ],
   "source": [
    "plt.hist(d[0,:,:,0].flatten(), bins = 100,alpha = 0.3)\n",
    "plt.show()"
   ]
  },
  {
   "cell_type": "code",
   "execution_count": 32,
   "metadata": {},
   "outputs": [
    {
     "data": {
      "image/png": "[encoded data removed]",
      "text/plain": [
       "<Figure size 432x288 with 1 Axes>"
      ]
     },
     "metadata": {
      "needs_background": "light"
     },
     "output_type": "display_data"
    }
   ],
   "source": [
    "#mean\n",
    "plt.hist(d_st_m[:,0], bins = 50, alpha = 0.8)\n",
    "plt.show()"
   ]
  },
  {
   "cell_type": "code",
   "execution_count": 33,
   "metadata": {},
   "outputs": [
    {
     "data": {
      "image/png": "[encoded data removed]",
      "text/plain": [
       "<Figure size 432x288 with 1 Axes>"
      ]
     },
     "metadata": {
      "needs_background": "light"
     },
     "output_type": "display_data"
    }
   ],
   "source": [
    "#std\n",
    "plt.hist(d_st_m[:,1], bins = 50, alpha = 0.8)\n",
    "plt.show()"
   ]
  },
  {
   "cell_type": "code",
   "execution_count": 34,
   "metadata": {},
   "outputs": [],
   "source": [
    "#Normalize images\n",
    "d_norm = []\n",
    "tmp = np.zeros((1000,100,100,1))\n",
    "for i in range(0,1000):\n",
    "    for j in range(0,1):\n",
    "        tmp[i,:,:,j] = (d[i,:,:,j] - d[i,:,:,j].min()) / (d[i,:,:,j].max() - d[i,:,:,j].min())\n",
    "d_norm.append(tmp)\n",
    "d_normalized = d_norm[0]\n",
    "\n",
    "\n",
    "d_norm_1 = []\n",
    "tmp = np.zeros((1000,100,100,1))\n",
    "for i in range(0,1000):\n",
    "    for j in range(0,1):\n",
    "        tmp[i,:,:,j] = (d1[i,:,:,j] - d1[i,:,:,j].min()) / (d1[i,:,:,j].max() - d1[i,:,:,j].min())\n",
    "d_norm_1.append(tmp)\n",
    "d_normalized_1 = d_norm_1[0]\n",
    "\n",
    "\n",
    "d_norm_2 = []\n",
    "tmp = np.zeros((1000,100,100,1))\n",
    "for i in range(0,1000):\n",
    "    for j in range(0,1):\n",
    "        tmp[i,:,:,j] = (d2[i,:,:,j] - d2[i,:,:,j].min()) / (d2[i,:,:,j].max() - d2[i,:,:,j].min())\n",
    "d_norm_2.append(tmp)\n",
    "d_normalized_2 = d_norm_2[0]"
   ]
  },
  {
   "cell_type": "code",
   "execution_count": 37,
   "metadata": {},
   "outputs": [
    {
     "name": "stdout",
     "output_type": "stream",
     "text": [
      "(500, 100, 100, 1)\n"
     ]
    }
   ],
   "source": [
    "dtrain_1n = d_normalized[:500]\n",
    "dtest_1n = d_normalized[500:]\n",
    "print(np.shape(dtrain_1n))"
   ]
  },
  {
   "cell_type": "code",
   "execution_count": 53,
   "metadata": {},
   "outputs": [
    {
     "name": "stdout",
     "output_type": "stream",
     "text": [
      "(1000, 1, 100, 100, 1)\n",
      "(1000, 1, 100, 100, 1)\n",
      "(1000, 1, 100, 100, 1)\n",
      "(500, 2, 1, 100, 100, 1)\n"
     ]
    }
   ],
   "source": [
    "#option with additional n_param dimension\n",
    "temp = [[]]*1000\n",
    "temp1 = [[]]*1000\n",
    "temp2 = [[]]*1000\n",
    "\n",
    "for i in range(len(d_normalized)):\n",
    "    temp[i] = [d_normalized[i]]\n",
    "d_shape = np.stack(temp)\n",
    "print(np.shape(d_shape))\n",
    "\n",
    "for i in range(len(d_normalized_1)):\n",
    "    temp1[i] = [d_normalized_1[i]]\n",
    "d1_shape = np.stack(temp)\n",
    "print(np.shape(d1_shape))\n",
    "\n",
    "for i in range(len(d_normalized_2)):\n",
    "    temp2[i] = [d_normalized_2[i]]\n",
    "d2_shape = np.stack(temp)\n",
    "print(np.shape(d2_shape))\n",
    "\n",
    "#produce tensor with simulations with theta above and bellow fiducial\n",
    "dd_dθ_num = np.concatenate([d2_shape[:, np.newaxis, ...], d1_shape[:, np.newaxis, ...]], axis=1)\n",
    "np.shape(dd_dθ_num)\n",
    "\n",
    "dd_dθ_num_train_1n = dd_dθ_num[:500]\n",
    "dd_dθ_num_test_1n = dd_dθ_num[500:]\n",
    "print(np.shape(dd_dθ_num_test))"
   ]
  },
  {
   "cell_type": "code",
   "execution_count": 39,
   "metadata": {},
   "outputs": [
    {
     "data": {
      "text/plain": [
       "(1000, 2)"
      ]
     },
     "execution_count": 39,
     "metadata": {},
     "output_type": "execute_result"
    }
   ],
   "source": [
    "#find variance of meand and std \n",
    "d_std_mean = []\n",
    "tmp = np.zeros((1000,2))\n",
    "for i in range(0,1000):\n",
    "        tmp[i,0] = d_normalized[i,:,:,:].mean()\n",
    "        tmp[i,1] = d_normalized[i,:,:,:].std()\n",
    "d_std_mean.append(tmp)\n",
    "d_st_m = d_std_mean[0]\n",
    "np.shape(d_st_m)"
   ]
  },
  {
   "cell_type": "code",
   "execution_count": 47,
   "metadata": {},
   "outputs": [
    {
     "data": {
      "image/png": "[encoded data removed]",
      "text/plain": [
       "<Figure size 432x288 with 1 Axes>"
      ]
     },
     "metadata": {
      "needs_background": "light"
     },
     "output_type": "display_data"
    }
   ],
   "source": [
    "plt.hist(d_normalized[0,:,:,0].flatten(), bins = 100,alpha = 0.3)\n",
    "plt.show()"
   ]
  },
  {
   "cell_type": "code",
   "execution_count": 40,
   "metadata": {},
   "outputs": [
    {
     "data": {
      "image/png": "[encoded data removed]",
      "text/plain": [
       "<Figure size 432x288 with 1 Axes>"
      ]
     },
     "metadata": {
      "needs_background": "light"
     },
     "output_type": "display_data"
    }
   ],
   "source": [
    "#mean\n",
    "plt.hist(d_st_m[:,0], bins = 50, alpha = 0.8)\n",
    "plt.show()"
   ]
  },
  {
   "cell_type": "code",
   "execution_count": 41,
   "metadata": {},
   "outputs": [
    {
     "data": {
      "image/png": "[encoded data removed]",
      "text/plain": [
       "<Figure size 432x288 with 1 Axes>"
      ]
     },
     "metadata": {
      "needs_background": "light"
     },
     "output_type": "display_data"
    }
   ],
   "source": [
    "#std\n",
    "plt.hist(d_st_m[:,1], bins = 50, alpha = 0.8)\n",
    "plt.show()"
   ]
  },
  {
   "cell_type": "code",
   "execution_count": null,
   "metadata": {},
   "outputs": [],
   "source": []
  }
 ],
 "metadata": {
  "kernelspec": {
   "display_name": "Python 3",
   "language": "python",
   "name": "python3"
  },
  "language_info": {
   "codemirror_mode": {
    "name": "ipython",
    "version": 3
   },
   "file_extension": ".py",
   "mimetype": "text/x-python",
   "name": "python",
   "nbconvert_exporter": "python",
   "pygments_lexer": "ipython3",
   "version": "3.7.4"
  }
 },
 "nbformat": 4,
 "nbformat_minor": 2
}
