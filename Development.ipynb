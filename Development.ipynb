{
 "cells": [
  {
   "cell_type": "code",
   "execution_count": 1,
   "metadata": {},
   "outputs": [],
   "source": [
    "%load_ext autoreload\n",
    "%autoreload 2"
   ]
  },
  {
   "cell_type": "code",
   "execution_count": 2,
   "metadata": {},
   "outputs": [],
   "source": [
    "import tensorflow as tf\n",
    "import numpy as np\n",
    "import IMNN\n",
    "import matplotlib.pyplot as plt"
   ]
  },
  {
   "cell_type": "code",
   "execution_count": 3,
   "metadata": {},
   "outputs": [],
   "source": [
    "n_batches = 10\n",
    "n_s = 1000\n",
    "n_d = 1000\n",
    "\n",
    "n_params = 2\n",
    "n_summaries = 3"
   ]
  },
  {
   "cell_type": "code",
   "execution_count": 4,
   "metadata": {},
   "outputs": [
    {
     "name": "stdout",
     "output_type": "stream",
     "text": [
      "Using single dataset\n"
     ]
    }
   ],
   "source": [
    "imnn = IMNN.IMNN(n_params, n_summaries, n_s, n_d)"
   ]
  },
  {
   "cell_type": "code",
   "execution_count": 5,
   "metadata": {},
   "outputs": [],
   "source": [
    "θ_fid = np.array([0., 1.])\n",
    "δθ = np.array([0.1, 0.1])"
   ]
  },
  {
   "cell_type": "code",
   "execution_count": 6,
   "metadata": {},
   "outputs": [],
   "source": [
    "seed = np.random.randint(1e6)\n",
    "np.random.seed(seed)\n",
    "simulations = np.random.normal(θ_fid[0], np.sqrt(θ_fid[1]), (n_s * n_batches, 10))\n",
    "np.random.seed(seed)\n",
    "simulations_a_m = np.random.normal(θ_fid[0] - δθ[0], np.sqrt(θ_fid[1]), (n_d * n_batches, 1, 10)) \n",
    "np.random.seed(seed)\n",
    "simulations_a_p = np.random.normal(θ_fid[0] + δθ[0], np.sqrt(θ_fid[1]), (n_d * n_batches, 1, 10)) \n",
    "np.random.seed(seed)\n",
    "simulations_b_m = np.random.normal(θ_fid[0], np.sqrt(θ_fid[1] - δθ[1]), (n_d * n_batches, 1, 10)) \n",
    "np.random.seed(seed)\n",
    "simulations_b_p = np.random.normal(θ_fid[0], np.sqrt(θ_fid[1] + δθ[1]), (n_d * n_batches, 1, 10)) \n",
    "numerical_derivative_simulations = np.concatenate([np.concatenate([simulations_a_m, simulations_b_m], axis=1)[:, np.newaxis, ...],\n",
    "                                                   np.concatenate([simulations_a_p, simulations_b_p], axis=1)[:, np.newaxis, ...]],\n",
    "                                                   axis=1)"
   ]
  },
  {
   "cell_type": "code",
   "execution_count": 7,
   "metadata": {},
   "outputs": [],
   "source": [
    "seed = np.random.randint(1e6)\n",
    "np.random.seed(seed)\n",
    "test_simulations = np.random.normal(θ_fid[0], np.sqrt(θ_fid[1]), (n_s, 10))\n",
    "np.random.seed(seed)\n",
    "test_simulations_a_m = np.random.normal(θ_fid[0] - δθ[0], np.sqrt(θ_fid[1]), (n_d, 1, 10)) \n",
    "np.random.seed(seed)\n",
    "test_simulations_a_p = np.random.normal(θ_fid[0] + δθ[0], np.sqrt(θ_fid[1]), (n_d, 1, 10)) \n",
    "np.random.seed(seed)\n",
    "test_simulations_b_m = np.random.normal(θ_fid[0], np.sqrt(θ_fid[1] - δθ[1]), (n_d, 1, 10)) \n",
    "np.random.seed(seed)\n",
    "test_simulations_b_p = np.random.normal(θ_fid[0], np.sqrt(θ_fid[1] + δθ[1]), (n_d, 1, 10)) \n",
    "numerical_derivative_test_simulations = np.concatenate([np.concatenate([test_simulations_a_m, test_simulations_b_m], axis=1)[:, np.newaxis, ...],\n",
    "                                                        np.concatenate([test_simulations_a_p, test_simulations_b_p], axis=1)[:, np.newaxis, ...]],\n",
    "                                                       axis=1)"
   ]
  },
  {
   "cell_type": "code",
   "execution_count": 8,
   "metadata": {},
   "outputs": [],
   "source": [
    "imnn.setup_dataset(θ_fid, simulations, numerical_derivative_simulations, δθ=δθ)\n",
    "imnn.setup_dataset(θ_fid, test_simulations, numerical_derivative_test_simulations, δθ=δθ, train=False)"
   ]
  },
  {
   "cell_type": "code",
   "execution_count": 9,
   "metadata": {},
   "outputs": [],
   "source": [
    "model = tf.keras.Sequential(\n",
    "    [tf.keras.Input(shape=(10,)),\n",
    "     tf.keras.layers.Dense(128),\n",
    "     tf.keras.layers.Activation(\"tanh\"),\n",
    "     tf.keras.layers.Dense(128),\n",
    "     tf.keras.layers.Activation(\"tanh\"),\n",
    "     tf.keras.layers.Dense(n_summaries),\n",
    "     tf.keras.layers.Activation(\"tanh\")\n",
    "    ])\n",
    "opt = tf.keras.optimizers.Adam()"
   ]
  },
  {
   "cell_type": "code",
   "execution_count": 10,
   "metadata": {},
   "outputs": [
    {
     "name": "stdout",
     "output_type": "stream",
     "text": [
      "Checking is not currently done on the model. Make sure that its output has shape (None, 3) for the fiducial values and (None, 2, 2, 3) for the derivative values.\n"
     ]
    }
   ],
   "source": [
    "imnn.set_model(model, opt)"
   ]
  },
  {
   "cell_type": "code",
   "execution_count": 11,
   "metadata": {},
   "outputs": [],
   "source": [
    "imnn.set_regularisation_strength(0.1, 10.)"
   ]
  },
  {
   "cell_type": "code",
   "execution_count": null,
   "metadata": {},
   "outputs": [
    {
     "data": {
      "application/vnd.jupyter.widget-view+json": {
       "model_id": "a7191bf3b12e4e76a2f0619d6961ce0d",
       "version_major": 2,
       "version_minor": 0
      },
      "text/plain": [
       "HBox(children=(IntProgress(value=0, description='Iterations', max=10, style=ProgressStyle(description_width='i…"
      ]
     },
     "metadata": {},
     "output_type": "display_data"
    },
    {
     "name": "stdout",
     "output_type": "stream",
     "text": [
      "0\n"
     ]
    },
    {
     "name": "stderr",
     "output_type": "stream",
     "text": [
      "WARNING: Logging before flag parsing goes to stderr.\n",
      "W1120 11:55:18.858223 4651867584 base_layer.py:1814] Layer dense is casting an input tensor from dtype float64 to the layer's dtype of float32, which is new behavior in TensorFlow 2.  The layer has dtype float32 because it's dtype defaults to floatx.\n",
      "\n",
      "If you intended to run this layer in float32, you can safely ignore this warning. If in doubt, this warning is likely only an issue if you are porting a TensorFlow 1.X model to TensorFlow 2.\n",
      "\n",
      "To change all layers to have dtype float64 by default, call `tf.keras.backend.set_floatx('float64')`. To change just this layer, pass dtype='float64' to the layer constructor. If you are the author of this layer, you can disable autocasting by passing autocast=False to the base Layer constructor.\n",
      "\n"
     ]
    }
   ],
   "source": [
    "imnn.fit(10, validate=True)"
   ]
  },
  {
   "cell_type": "code",
   "execution_count": null,
   "metadata": {},
   "outputs": [],
   "source": [
    "plt.plot(imnn.history[\"det_F\"])\n",
    "plt.plot(imnn.history[\"val_det_F\"])\n",
    "plt.xlabel(\"Iterations\")\n",
    "plt.ylabel(r\"$|{\\bf F_{\\alpha\\beta}}|$\");"
   ]
  },
  {
   "cell_type": "code",
   "execution_count": null,
   "metadata": {},
   "outputs": [],
   "source": [
    "plt.plot(imnn.history[\"det_C\"], color=\"C0\")\n",
    "plt.plot(imnn.history[\"det_Cinv\"], color=\"C0\", linestyle=\"dashed\")\n",
    "plt.plot(imnn.history[\"val_det_C\"], color=\"C1\")\n",
    "plt.plot(imnn.history[\"val_det_Cinv\"], color=\"C1\", linestyle=\"dashed\")\n",
    "plt.yscale(\"log\")\n",
    "plt.xlabel(\"Iterations\")\n",
    "plt.ylabel(r\"$|{\\bf C}^{(-1)}|$\");"
   ]
  },
  {
   "cell_type": "code",
   "execution_count": null,
   "metadata": {},
   "outputs": [],
   "source": [
    "plt.plot(imnn.history[\"reg\"])\n",
    "plt.plot(imnn.history[\"val_reg\"])\n",
    "plt.xlabel(\"Iterations\")\n",
    "plt.ylabel(r\"Regularisation\");"
   ]
  },
  {
   "cell_type": "code",
   "execution_count": null,
   "metadata": {},
   "outputs": [],
   "source": [
    "plt.plot(imnn.history[\"r\"])\n",
    "plt.plot(imnn.history[\"val_r\"])\n",
    "plt.xlabel(\"Iterations\")\n",
    "plt.ylabel(r\"$r$\");"
   ]
  },
  {
   "cell_type": "code",
   "execution_count": null,
   "metadata": {},
   "outputs": [],
   "source": []
  }
 ],
 "metadata": {
  "kernelspec": {
   "display_name": "Python 3",
   "language": "python",
   "name": "python3"
  },
  "language_info": {
   "codemirror_mode": {
    "name": "ipython",
    "version": 3
   },
   "file_extension": ".py",
   "mimetype": "text/x-python",
   "name": "python",
   "nbconvert_exporter": "python",
   "pygments_lexer": "ipython3",
   "version": "3.7.4"
  }
 },
 "nbformat": 4,
 "nbformat_minor": 4
}
