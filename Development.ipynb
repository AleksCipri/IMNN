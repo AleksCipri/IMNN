{
 "cells": [
  {
   "cell_type": "code",
   "execution_count": 1,
   "metadata": {},
   "outputs": [],
   "source": [
    "%load_ext autoreload\n",
    "%autoreload 2"
   ]
  },
  {
   "cell_type": "code",
   "execution_count": 2,
   "metadata": {},
   "outputs": [],
   "source": [
    "import tensorflow as tf\n",
    "import numpy as np\n",
    "from IMNN.IMNN import IMNN\n",
    "import matplotlib.pyplot as plt"
   ]
  },
  {
   "cell_type": "code",
   "execution_count": 3,
   "metadata": {},
   "outputs": [],
   "source": [
    "n_batches = 10\n",
    "n_s = 1000\n",
    "n_d = 100\n",
    "\n",
    "n_params = 1\n",
    "n_summaries = 1\n",
    "input_shape = (10,)"
   ]
  },
  {
   "cell_type": "code",
   "execution_count": 4,
   "metadata": {},
   "outputs": [],
   "source": [
    "#n_batches = 10\n",
    "#n_s = 1000\n",
    "#n_d = 100\n",
    "#\n",
    "#n_params = 2\n",
    "#n_summaries = 2\n",
    "#input_shape = (10,)"
   ]
  },
  {
   "cell_type": "code",
   "execution_count": 5,
   "metadata": {},
   "outputs": [
    {
     "name": "stdout",
     "output_type": "stream",
     "text": [
      "Using different datasets for fiducial and derivativesimulations\n"
     ]
    }
   ],
   "source": [
    "imnn = IMNN(n_params, n_summaries, n_s, n_d)"
   ]
  },
  {
   "cell_type": "code",
   "execution_count": 6,
   "metadata": {},
   "outputs": [],
   "source": [
    "θ_fid = np.array([1.])\n",
    "δθ = np.array([0.1])"
   ]
  },
  {
   "cell_type": "code",
   "execution_count": 7,
   "metadata": {},
   "outputs": [],
   "source": [
    "#θ_fid = np.array([0., 1.])\n",
    "#δθ = np.array([0.1, 0.1])"
   ]
  },
  {
   "cell_type": "code",
   "execution_count": 8,
   "metadata": {},
   "outputs": [],
   "source": [
    "seed = np.random.randint(1e6)\n",
    "np.random.seed(seed)\n",
    "s = np.random.normal(0., np.sqrt(θ_fid[0]), (n_s * n_batches,) + input_shape)\n",
    "np.random.seed(seed)\n",
    "s_a_m = np.random.normal(0., np.sqrt(θ_fid[0] - δθ[0]), (n_d * n_batches, 1, 1) + input_shape) \n",
    "np.random.seed(seed)\n",
    "s_a_p = np.random.normal(0., np.sqrt(θ_fid[0] + δθ[0]), (n_d * n_batches, 1, 1) + input_shape)\n",
    "ds_dθ_num = np.concatenate([s_a_m, s_a_p], axis=1)\n",
    "ds_dθ = (ds_dθ_num[:, 1] - ds_dθ_num[:, 0]) / (2. * δθ[np.newaxis, :, np.newaxis])"
   ]
  },
  {
   "cell_type": "code",
   "execution_count": 9,
   "metadata": {},
   "outputs": [],
   "source": [
    "#seed = np.random.randint(1e6)\n",
    "#np.random.seed(seed)\n",
    "#s = np.random.normal(θ_fid[0], np.sqrt(θ_fid[1]), (n_s * n_batches,) + input_shape)\n",
    "#np.random.seed(seed)\n",
    "#s_a_m = np.random.normal(θ_fid[0] - δθ[0], np.sqrt(θ_fid[1]), (n_d * n_batches, 1) + input_shape) \n",
    "#np.random.seed(seed)\n",
    "#s_a_p = np.random.normal(θ_fid[0] + δθ[0], np.sqrt(θ_fid[1]), (n_d * n_batches, 1) + input_shape)\n",
    "#np.random.seed(seed)\n",
    "#s_b_m = np.random.normal(θ_fid[0], np.sqrt(θ_fid[1] - δθ[1]), (n_d * n_batches, 1) + input_shape)\n",
    "#np.random.seed(seed)\n",
    "#s_b_p = np.random.normal(θ_fid[0], np.sqrt(θ_fid[1] + δθ[1]), (n_d * n_batches, 1) + input_shape)\n",
    "#ds_dθ_num = np.concatenate([np.concatenate([s_a_m, s_b_m], axis=1)[:, np.newaxis, ...],\n",
    "#                            np.concatenate([s_a_p, s_b_p], axis=1)[:, np.newaxis, ...]],\n",
    "#                           axis=1)\n",
    "#ds_dθ = (ds_dθ_num[:, 1] - ds_dθ_num[:, 0]) / (2. * δθ[np.newaxis, :, np.newaxis])"
   ]
  },
  {
   "cell_type": "code",
   "execution_count": 10,
   "metadata": {},
   "outputs": [],
   "source": [
    "seed = np.random.randint(1e6)\n",
    "np.random.seed(seed)\n",
    "test_s = np.random.normal(0., np.sqrt(θ_fid[0]), (n_s * n_batches,) + input_shape)\n",
    "np.random.seed(seed)\n",
    "test_s_a_m = np.random.normal(0., np.sqrt(θ_fid[0] - δθ[0]), (n_d * n_batches, 1, 1) + input_shape) \n",
    "np.random.seed(seed)\n",
    "test_s_a_p = np.random.normal(0., np.sqrt(θ_fid[0] + δθ[0]), (n_d * n_batches, 1, 1) + input_shape)\n",
    "test_ds_dθ_num = np.concatenate([test_s_a_m, test_s_a_p], axis=1)\n",
    "test_ds_dθ = (test_ds_dθ_num[:, 1] - test_ds_dθ_num[:, 0]) / (2. * δθ[np.newaxis, :, np.newaxis])"
   ]
  },
  {
   "cell_type": "code",
   "execution_count": 11,
   "metadata": {},
   "outputs": [],
   "source": [
    "#seed = np.random.randint(1e6)\n",
    "#np.random.seed(seed)\n",
    "#test_s = np.random.normal(θ_fid[0], np.sqrt(θ_fid[1]), (n_s,) + input_shape)\n",
    "#np.random.seed(seed)\n",
    "#test_s_a_m = np.random.normal(θ_fid[0] - δθ[0], np.sqrt(θ_fid[1]), (n_d, 1) + input_shape)\n",
    "#np.random.seed(seed)\n",
    "#test_s_a_p = np.random.normal(θ_fid[0] + δθ[0], np.sqrt(θ_fid[1]), (n_d, 1) + input_shape)\n",
    "#np.random.seed(seed)\n",
    "#test_s_b_m = np.random.normal(θ_fid[0], np.sqrt(θ_fid[1] - δθ[1]), (n_d, 1) + input_shape)\n",
    "#np.random.seed(seed)\n",
    "#test_s_b_p = np.random.normal(θ_fid[0], np.sqrt(θ_fid[1] + δθ[1]), (n_d, 1) + input_shape)\n",
    "#test_ds_dθ_num = np.concatenate([np.concatenate([test_s_a_m, test_s_b_m], axis=1)[:, np.newaxis, ...],\n",
    "#                                 np.concatenate([test_s_a_p, test_s_b_p], axis=1)[:, np.newaxis, ...]],\n",
    "#                                axis=1)\n",
    "#test_ds_dθ = (test_ds_dθ_num[:, 1] - test_ds_dθ_num[:, 0]) / (2. * δθ[np.newaxis, :, np.newaxis])"
   ]
  },
  {
   "cell_type": "code",
   "execution_count": 12,
   "metadata": {},
   "outputs": [],
   "source": [
    "model = tf.keras.Sequential(\n",
    "    [tf.keras.Input(shape=(10,)),\n",
    "     tf.keras.layers.Dense(128),\n",
    "     tf.keras.layers.Activation(\"tanh\"),\n",
    "     tf.keras.layers.Dense(128),\n",
    "     tf.keras.layers.Activation(\"tanh\"),\n",
    "     tf.keras.layers.Dense(n_summaries),\n",
    "     tf.keras.layers.Activation(\"tanh\")\n",
    "    ])\n",
    "opt = tf.keras.optimizers.Adam()"
   ]
  },
  {
   "cell_type": "code",
   "execution_count": 13,
   "metadata": {},
   "outputs": [
    {
     "name": "stdout",
     "output_type": "stream",
     "text": [
      "Checking is not currently done on the model. Make sure that its output has shape (None, 1) for the fiducial values a nd (None, 2, 1, 1) for the derivative values.\n"
     ]
    }
   ],
   "source": [
    "imnn.set_model(model, opt)"
   ]
  },
  {
   "cell_type": "code",
   "execution_count": 14,
   "metadata": {},
   "outputs": [],
   "source": [
    "imnn.setup_dataset(θ_fid, s, ds_dθ_num, δθ=δθ)\n",
    "#imnn.setup_dataset(θ_fid, test_s, test_ds_dθ_num, δθ=δθ, train=False)"
   ]
  },
  {
   "cell_type": "code",
   "execution_count": 15,
   "metadata": {},
   "outputs": [],
   "source": [
    "imnn.set_regularisation_strength(0.1, 10.)"
   ]
  },
  {
   "cell_type": "code",
   "execution_count": 17,
   "metadata": {},
   "outputs": [
    {
     "data": {
      "application/vnd.jupyter.widget-view+json": {
       "model_id": "2cf7327efb684f61ba5723960e84360f",
       "version_major": 2,
       "version_minor": 0
      },
      "text/plain": [
       "HBox(children=(IntProgress(value=0, description='Iterations', max=1000, style=ProgressStyle(description_width=…"
      ]
     },
     "metadata": {},
     "output_type": "display_data"
    }
   ],
   "source": [
    "imnn.fit(1000, validate=False)"
   ]
  },
  {
   "cell_type": "code",
   "execution_count": 18,
   "metadata": {},
   "outputs": [
    {
     "data": {
      "image/png": "[encoded data removed]",
      "text/plain": [
       "<Figure size 432x288 with 1 Axes>"
      ]
     },
     "metadata": {
      "needs_background": "light"
     },
     "output_type": "display_data"
    }
   ],
   "source": [
    "plt.plot(imnn.history[\"det_F\"])\n",
    "plt.plot(imnn.history[\"val_det_F\"])\n",
    "plt.xlabel(\"Iterations\")\n",
    "plt.ylabel(r\"$|{\\bf F_{\\alpha\\beta}}|$\");"
   ]
  },
  {
   "cell_type": "code",
   "execution_count": 19,
   "metadata": {},
   "outputs": [
    {
     "data": {
      "image/png": "[encoded data removed]",
      "text/plain": [
       "<Figure size 432x288 with 1 Axes>"
      ]
     },
     "metadata": {
      "needs_background": "light"
     },
     "output_type": "display_data"
    }
   ],
   "source": [
    "plt.plot(imnn.history[\"det_C\"], color=\"C0\")\n",
    "plt.plot(imnn.history[\"det_Cinv\"], color=\"C0\", linestyle=\"dashed\")\n",
    "plt.plot(imnn.history[\"val_det_C\"], color=\"C1\")\n",
    "plt.plot(imnn.history[\"val_det_Cinv\"], color=\"C1\", linestyle=\"dashed\")\n",
    "plt.yscale(\"log\")\n",
    "plt.xlabel(\"Iterations\")\n",
    "plt.ylabel(r\"$|{\\bf C}^{(-1)}|$\");"
   ]
  },
  {
   "cell_type": "code",
   "execution_count": 20,
   "metadata": {},
   "outputs": [
    {
     "data": {
      "image/png": "[encoded data removed]",
      "text/plain": [
       "<Figure size 432x288 with 1 Axes>"
      ]
     },
     "metadata": {
      "needs_background": "light"
     },
     "output_type": "display_data"
    }
   ],
   "source": [
    "plt.plot(imnn.history[\"reg\"])\n",
    "plt.plot(imnn.history[\"val_reg\"])\n",
    "plt.xlabel(\"Iterations\")\n",
    "plt.ylabel(r\"Regularisation\");"
   ]
  },
  {
   "cell_type": "code",
   "execution_count": 21,
   "metadata": {},
   "outputs": [
    {
     "data": {
      "image/png": "[encoded data removed]",
      "text/plain": [
       "<Figure size 432x288 with 1 Axes>"
      ]
     },
     "metadata": {
      "needs_background": "light"
     },
     "output_type": "display_data"
    }
   ],
   "source": [
    "plt.plot(imnn.history[\"r\"])\n",
    "plt.plot(imnn.history[\"val_r\"])\n",
    "plt.xlabel(\"Iterations\")\n",
    "plt.ylabel(r\"$r$\");"
   ]
  },
  {
   "cell_type": "code",
   "execution_count": 46,
   "metadata": {},
   "outputs": [],
   "source": [
    "imnn.setup_MLE(dataset=False, θ_fid=imnn.θ_fid, d=next(iter(imnn.dataset)), dd_dθ=next(iter(imnn.derivative_dataset)), δθ=δθ)"
   ]
  },
  {
   "cell_type": "code",
   "execution_count": 52,
   "metadata": {},
   "outputs": [
    {
     "data": {
      "text/plain": [
       "<tf.Tensor: id=21929, shape=(1, 1), dtype=float32, numpy=array([[0.53522754]], dtype=float32)>"
      ]
     },
     "execution_count": 52,
     "metadata": {},
     "output_type": "execute_result"
    }
   ],
   "source": [
    "imnn.get_MLE(np.random.normal(0, 1, (1,)+input_shape))"
   ]
  },
  {
   "cell_type": "code",
   "execution_count": null,
   "metadata": {},
   "outputs": [],
   "source": []
  },
  {
   "cell_type": "code",
   "execution_count": null,
   "metadata": {},
   "outputs": [],
   "source": []
  }
 ],
 "metadata": {
  "kernelspec": {
   "display_name": "Python 3",
   "language": "python",
   "name": "python3"
  },
  "language_info": {
   "codemirror_mode": {
    "name": "ipython",
    "version": 3
   },
   "file_extension": ".py",
   "mimetype": "text/x-python",
   "name": "python",
   "nbconvert_exporter": "python",
   "pygments_lexer": "ipython3",
   "version": "3.7.4"
  }
 },
 "nbformat": 4,
 "nbformat_minor": 4
}
