{
 "cells": [
  {
   "cell_type": "code",
   "execution_count": 1,
   "metadata": {},
   "outputs": [],
   "source": [
    "#import os\n",
    "#os.environ[\"CUDA_VISIBLE_DEVICES\"]=\"0\" \n",
    "import tensorflow as tf\n",
    "import tensorflow_probability as tfp\n",
    "import numpy as np\n",
    "import matplotlib.pyplot as plt\n",
    "import tqdm"
   ]
  },
  {
   "cell_type": "code",
   "execution_count": 2,
   "metadata": {},
   "outputs": [],
   "source": [
    "n_s = 1000\n",
    "n_d = 100\n",
    "n_train = 10\n",
    "n_params = 1\n",
    "n_summaries = 2\n",
    "input_shape = (10,)\n",
    "t_fid = np.array([1.])\n",
    "dt = np.array([0.1])\n",
    "ns = tf.constant(n_s, dtype=tf.float32)\n",
    "nd = tf.constant(n_d, dtype=tf.float32)\n",
    "θ_fid = tf.constant(t_fid, dtype=tf.float32)\n",
    "dθ = tf.constant(dt, dtype=tf.float32)"
   ]
  },
  {
   "cell_type": "code",
   "execution_count": 3,
   "metadata": {},
   "outputs": [],
   "source": [
    "seed = 0\n",
    "np.random.seed(seed)\n",
    "training_simulations = np.random.normal(0., np.sqrt(t_fid[0]), (n_train * max(n_s, n_d),) + input_shape)[:n_train * n_s].astype(np.float32)\n",
    "np.random.seed(seed)\n",
    "training_simulations_m = np.random.normal(0., np.sqrt(t_fid[0] - dt[0]), (n_train * max(n_s, n_d), n_params) + input_shape)[:n_train * n_d].astype(np.float32)\n",
    "np.random.seed(seed)\n",
    "training_simulations_p = np.random.normal(0., np.sqrt(t_fid[0] + dt[0]), (n_train * max(n_s, n_d), n_params) + input_shape)[:n_train * n_d].astype(np.float32)\n",
    "seed = 1\n",
    "np.random.seed(seed)\n",
    "test_simulations = np.random.normal(0., np.sqrt(t_fid[0]), (max(n_s, n_d),) + input_shape)[:n_s].astype(np.float32)\n",
    "np.random.seed(seed)\n",
    "test_simulations_m = np.random.normal(0., np.sqrt(t_fid[0] - dt[0]), (max(n_s, n_d), n_params) + input_shape)[:n_d].astype(np.float32)\n",
    "np.random.seed(seed)\n",
    "test_simulations_p = np.random.normal(0., np.sqrt(t_fid[0] + dt[0]), (max(n_s, n_d), n_params) + input_shape)[:n_d].astype(np.float32)"
   ]
  },
  {
   "cell_type": "code",
   "execution_count": 4,
   "metadata": {},
   "outputs": [],
   "source": [
    "sims_at_once = 17\n",
    "\n",
    "training_set = tf.data.Dataset.from_tensor_slices(training_simulations)\n",
    "training_set = training_set.batch(n_s).shuffle(n_s * n_train).repeat()\n",
    "training_set = training_set.map(lambda x: tf.data.Dataset.from_tensor_slices(x).batch(sims_at_once).repeat(2))\n",
    "indices = tf.data.Dataset.from_tensor_slices(np.arange(n_s)[:, np.newaxis].astype(np.int32))\n",
    "indices = indices.batch(sims_at_once).repeat()\n",
    "\n",
    "training_derivative_set = tf.data.Dataset.from_tensor_slices((training_simulations_m, training_simulations_p))\n",
    "training_derivative_set = training_derivative_set.batch(n_d).shuffle(n_d * n_train).repeat()\n",
    "training_derivative_set = training_derivative_set.map(lambda x, y: (tf.data.Dataset.from_tensor_slices((x, y)).batch(sims_at_once).repeat(2)))\n",
    "derivative_indices = tf.data.Dataset.from_tensor_slices(np.arange(n_d)[:, np.newaxis].astype(np.int32))\n",
    "derivative_indices = derivative_indices.batch(sims_at_once).repeat()"
   ]
  },
  {
   "cell_type": "code",
   "execution_count": 5,
   "metadata": {},
   "outputs": [],
   "source": [
    "model = tf.keras.Sequential(\n",
    "    [tf.keras.Input(shape=(10,)),\n",
    "     tf.keras.layers.Dense(128),\n",
    "     tf.keras.layers.Activation(\"tanh\"),\n",
    "     tf.keras.layers.Dense(128),\n",
    "     tf.keras.layers.Activation(\"tanh\"),\n",
    "     tf.keras.layers.Dense(n_summaries),\n",
    "     tf.keras.layers.Activation(\"tanh\")\n",
    "    ])\n",
    "opt = tf.keras.optimizers.Adam()"
   ]
  },
  {
   "cell_type": "code",
   "execution_count": 6,
   "metadata": {},
   "outputs": [],
   "source": [
    "batches = np.ceil(n_s / sims_at_once).astype(int)\n",
    "derivative_batches = np.ceil(n_d / sims_at_once).astype(int)\n",
    "data_iterator = iter(training_set)\n",
    "data_derivative_iterator = iter(training_derivative_set)\n",
    "indices_iterator = iter(indices)\n",
    "derivative_indices_iterator = iter(derivative_indices)"
   ]
  },
  {
   "cell_type": "code",
   "execution_count": 7,
   "metadata": {},
   "outputs": [],
   "source": [
    "simulator_iterator = iter(next(data_iterator))\n",
    "derivative_iterator = iter(next(data_derivative_iterator))\n",
    "for j in range(batches):\n",
    "    simulations = next(simulator_iterator)\n",
    "    inds = next(indices_iterator)\n",
    "    with tf.GradientTape() as tape:\n",
    "        x = model(simulations)\n",
    "    dxdw = tape.jacobian(x, model.variables)"
   ]
  },
  {
   "cell_type": "code",
   "execution_count": 37,
   "metadata": {},
   "outputs": [],
   "source": [
    "@tf.function\n",
    "def staggered_train(data_iterator, data_derivative_iterator, indices_iterator, \n",
    "                    derivative_indices_iterator, λ, α):\n",
    "    simulator_iterator = iter(next(data_iterator))\n",
    "    derivative_iterator = iter(next(data_derivative_iterator))\n",
    "    x = tf.zeros(shape=(n_s, n_summaries))\n",
    "    for j in range(batches):\n",
    "        simulations = next(simulator_iterator)\n",
    "        inds = next(indices_iterator)\n",
    "        x = tf.tensor_scatter_nd_update(x, inds, model(simulations))\n",
    "    x_m = tf.zeros(shape=(n_d, n_params, n_summaries))\n",
    "    x_p = tf.zeros(shape=(n_d, n_params, n_summaries))\n",
    "    for j in range(derivative_batches):\n",
    "        simulations_m, simulations_p = next(derivative_iterator)\n",
    "        inds = next(derivative_indices_iterator)\n",
    "        x_m = tf.tensor_scatter_nd_update(x_m, inds, model(simulations_m))\n",
    "        x_p = tf.tensor_scatter_nd_update(x_p, inds, model(simulations_p))\n",
    "    \n",
    "    C, μ_offset = get_covariance(x)\n",
    "    Cinv = tf.linalg.inv(C)\n",
    "    dμdθ = get_derivative_mean(x_m, x_p)\n",
    "    F = get_Fisher(Cinv, dμdθ)\n",
    "    \n",
    "    dCdx = get_covariance_derivative(μ_offset)\n",
    "    dΛdx, dΛdx_m, dΛdx_p = get_log_det_fisher_derivative(F, Cinv, dμdθ, dCdx)\n",
    "    dΛ_2dx, r = get_regularisation_derivative(C, Cinv, dCdx, λ, α)\n",
    "    dΛdx = tf.add(dΛ_2dx, dΛdx)\n",
    "    \n",
    "    gradients = [tf.zeros(model.variables[layer].shape) for layer in range(len(model.variables))]\n",
    "    for j in range(batches):\n",
    "        simulations = next(simulator_iterator)\n",
    "        inds = next(indices_iterator)\n",
    "        with tf.GradientTape() as tape:\n",
    "            x = model(simulations)\n",
    "        dxdw = tape.jacobian(x, model.variables)\n",
    "        for layer in range(len(model.variables)):\n",
    "            gradients[layer] = tf.add(\n",
    "                gradients[layer],\n",
    "                tf.divide(\n",
    "                    tf.einsum(\n",
    "                        \"ij,ij...->...\", \n",
    "                        tf.gather_nd(dΛdx, inds),\n",
    "                        dxdw[layer]),\n",
    "                    tf.dtypes.cast(\n",
    "                        tf.shape(inds)[0],\n",
    "                        tf.float32)))\n",
    "    for j in range(derivative_batches):\n",
    "        simulations_m, simulations_p = next(derivative_iterator)\n",
    "        inds = next(derivative_indices_iterator)\n",
    "        with tf.GradientTape(persistent=True) as tape:\n",
    "            x_m = model(simulations_m)\n",
    "            x_p = model(simulations_p)\n",
    "        dx_mdw = tape.jacobian(x_m, model.variables)\n",
    "        dx_pdw = tape.jacobian(x_p, model.variables)\n",
    "        del tape\n",
    "        for layer in range(len(model.variables)):\n",
    "            gradients[layer] = tf.add(\n",
    "                gradients[layer],\n",
    "                tf.divide(\n",
    "                    tf.add(\n",
    "                        tf.einsum(\n",
    "                            \"ijk,ijk...->...\", \n",
    "                            tf.gather_nd(dΛdx_m, inds),\n",
    "                            dx_mdw[layer]),\n",
    "                        tf.einsum(\n",
    "                            \"ijk,ijk...->...\", \n",
    "                            tf.gather_nd(dΛdx_p, inds), \n",
    "                            dx_pdw[layer])),\n",
    "                    tf.dtypes.cast(\n",
    "                        tf.shape(inds)[0],\n",
    "                        tf.float32)))\n",
    "    opt.apply_gradients(zip(gradients, model.variables))\n",
    "    return tf.linalg.det(F), tf.linalg.det(C), tf.linalg.det(Cinv), dμdθ, r"
   ]
  },
  {
   "cell_type": "code",
   "execution_count": 9,
   "metadata": {},
   "outputs": [],
   "source": [
    "def get_covariance(x):\n",
    "    μ = tf.reduce_mean(x, \n",
    "                       axis=0, \n",
    "                       keepdims=True)\n",
    "    μ_offset = tf.subtract(x, μ)\n",
    "    \n",
    "    C = tf.divide(\n",
    "        tf.einsum(\n",
    "            \"ij,ik->jk\", \n",
    "            μ_offset, \n",
    "            μ_offset), \n",
    "        tf.subtract(ns, 1.))\n",
    "    return C, μ_offset"
   ]
  },
  {
   "cell_type": "code",
   "execution_count": 10,
   "metadata": {},
   "outputs": [],
   "source": [
    "def get_derivative_mean(x_m, x_p):\n",
    "    return tf.reduce_mean(\n",
    "        tf.einsum(\n",
    "            \"ijk,j->ijk\",\n",
    "            tf.subtract(x_p, x_m),\n",
    "            tf.divide(\n",
    "                1.,\n",
    "                tf.multiply(2., dθ))),\n",
    "            axis=0)"
   ]
  },
  {
   "cell_type": "code",
   "execution_count": 11,
   "metadata": {},
   "outputs": [],
   "source": [
    "def get_Fisher(Cinv, dμdθ):\n",
    "    F = tf.linalg.band_part(\n",
    "            tf.einsum(\n",
    "                \"ij,kj->ik\", \n",
    "                dμdθ, \n",
    "                tf.einsum(\n",
    "                    \"ij,kj->ki\", \n",
    "                    Cinv, \n",
    "                    dμdθ)), 0, -1)\n",
    "    return tf.multiply(\n",
    "        0.5, \n",
    "        tf.add(\n",
    "            F, \n",
    "            tf.transpose(F, perm=[1, 0])))"
   ]
  },
  {
   "cell_type": "code",
   "execution_count": 12,
   "metadata": {},
   "outputs": [],
   "source": [
    "def get_covariance_derivative(μ_offset):\n",
    "    dxdx = tf.einsum(\n",
    "        \"ij,kl->ijkl\", \n",
    "        tf.eye(n_s, n_s), \n",
    "        tf.eye(n_summaries, n_summaries))\n",
    "    dμ_offsetdx = tf.subtract(\n",
    "        dxdx, \n",
    "        tf.reduce_mean(\n",
    "            dxdx, \n",
    "            axis=0, \n",
    "            keepdims=True))\n",
    "    return tf.divide(\n",
    "        tf.reduce_sum(\n",
    "            tf.add(\n",
    "                tf.einsum(\n",
    "                    \"ijkl,im->ijkml\", \n",
    "                    dμ_offsetdx, \n",
    "                    μ_offset),\n",
    "                tf.einsum(\n",
    "                    \"ij,iklm->ikjlm\",\n",
    "                    μ_offset, \n",
    "                    dμ_offsetdx)),\n",
    "            axis=0),\n",
    "        tf.subtract(ns, 1.))"
   ]
  },
  {
   "cell_type": "code",
   "execution_count": 13,
   "metadata": {},
   "outputs": [],
   "source": [
    "def get_derivative_mean_derivative():\n",
    "    dxdx = tf.einsum(\n",
    "        \"ij,kl,mn->ijklmn\", \n",
    "        tf.eye(n_d, n_d),\n",
    "        tf.eye(n_params, n_params),\n",
    "        tf.eye(n_summaries, n_summaries))\n",
    "    ddμdθdx = tf.reduce_mean(\n",
    "        tf.einsum(\n",
    "            \"ijklmn,l->ijkmnl\",\n",
    "            dxdx, \n",
    "            tf.divide(\n",
    "                1., \n",
    "                tf.multiply(2., dθ))), \n",
    "        axis=0)\n",
    "    return ddμdθdx"
   ]
  },
  {
   "cell_type": "code",
   "execution_count": 14,
   "metadata": {},
   "outputs": [],
   "source": [
    "def get_fisher_derivative(Cinv, dμdθ, dCdx):\n",
    "    ddμdθdx = get_derivative_mean_derivative()\n",
    "    Cinvdμdθ = tf.einsum(\n",
    "        \"ij,kj->ki\", \n",
    "        Cinv, \n",
    "        dμdθ)\n",
    "    dFdx = tf.linalg.band_part(\n",
    "        tf.einsum(\n",
    "            \"ij,kljm->kmil\",\n",
    "            dμdθ, \n",
    "            tf.einsum(\n",
    "                \"ij,kljm->klim\",\n",
    "                Cinv, \n",
    "                tf.einsum(\n",
    "                    \"ijkl,mk->imjl\",\n",
    "                    dCdx, \n",
    "                    Cinvdμdθ))), 0, -1)\n",
    "    dFdx = tf.multiply(\n",
    "        -0.5,\n",
    "        tf.add(\n",
    "            dFdx, \n",
    "            tf.transpose(\n",
    "                dFdx, \n",
    "                perm=[0, 1, 3, 2])))\n",
    "    \n",
    "    dFdx_m_a = tf.linalg.band_part(\n",
    "            tf.einsum(\n",
    "                \"ijklm,nk->imljn\",\n",
    "                -ddμdθdx, \n",
    "                Cinvdμdθ), 0, -1)\n",
    "    dFdx_m_b = tf.linalg.band_part(\n",
    "            tf.einsum(\n",
    "                \"ij,kljmn->knmil\",\n",
    "                dμdθ, \n",
    "                tf.einsum(\n",
    "                    \"ij,kljmn->klimn\",\n",
    "                    Cinv, \n",
    "                    -ddμdθdx)), 0, -1)  \n",
    "    dFdx_m = tf.multiply(\n",
    "        0.5,\n",
    "        tf.add(\n",
    "            tf.add(\n",
    "                dFdx_m_a,\n",
    "                tf.transpose(\n",
    "                    dFdx_m_a,\n",
    "                    perm=[0, 1, 2, 4, 3])),\n",
    "            tf.add(\n",
    "                dFdx_m_b,\n",
    "                tf.transpose(\n",
    "                    dFdx_m_b,\n",
    "                    perm=[0, 1, 2, 4, 3]))))\n",
    "    \n",
    "    dFdx_p_a = tf.linalg.band_part(\n",
    "            tf.einsum(\n",
    "                \"ijklm,nk->imljn\",\n",
    "                ddμdθdx, \n",
    "                Cinvdμdθ), 0, -1)\n",
    "    dFdx_p_b = tf.linalg.band_part(\n",
    "            tf.einsum(\n",
    "                \"ij,kljmn->knmil\",\n",
    "                dμdθ, \n",
    "                tf.einsum(\n",
    "                    \"ij,kljmn->klimn\",\n",
    "                    Cinv, \n",
    "                    ddμdθdx)), 0, -1)  \n",
    "    dFdx_p = tf.multiply(\n",
    "        0.5,\n",
    "        tf.add(\n",
    "            tf.add(\n",
    "                dFdx_p_a,\n",
    "                tf.transpose(\n",
    "                    dFdx_p_a,\n",
    "                    perm=[0, 1, 2, 4, 3])),\n",
    "            tf.add(\n",
    "                dFdx_p_b,\n",
    "                tf.transpose(\n",
    "                    dFdx_p_b,\n",
    "                    perm=[0, 1, 2, 4, 3]))))\n",
    "    return dFdx, dFdx_m, dFdx_p"
   ]
  },
  {
   "cell_type": "code",
   "execution_count": 15,
   "metadata": {},
   "outputs": [],
   "source": [
    "def get_log_det_fisher_derivative(F, Cinv, dμdθ, dCdx):\n",
    "    Finv = tf.linalg.inv(F)\n",
    "    dFdx, dFdx_m, dFdx_p = get_fisher_derivative(Cinv, dμdθ, dCdx)\n",
    "    \n",
    "    dΛdx = -tf.linalg.trace(\n",
    "        tf.einsum(\n",
    "            \"ij,kljm->klim\",\n",
    "            Finv, \n",
    "            dFdx))\n",
    "    dΛdx_m = -tf.linalg.trace(\n",
    "        tf.einsum(\n",
    "            \"ij,klmjn->klmin\",\n",
    "            Finv, \n",
    "            dFdx_m))\n",
    "    dΛdx_p = -tf.linalg.trace(\n",
    "        tf.einsum(\n",
    "            \"ij,klmjn->klmin\", \n",
    "            Finv, \n",
    "            dFdx_p))\n",
    "    return dΛdx, dΛdx_m, dΛdx_p"
   ]
  },
  {
   "cell_type": "code",
   "execution_count": 16,
   "metadata": {},
   "outputs": [],
   "source": [
    "def get_regularisation(C, Cinv):\n",
    "    I = tf.eye(n_summaries)\n",
    "    CmI = tf.subtract(C, I)\n",
    "    CinvmI = tf.subtract(Cinv, I)\n",
    "    Λ_2 = tf.multiply(0.5,\n",
    "        tf.add(\n",
    "            tf.square(\n",
    "                tf.norm(CmI, \n",
    "                        ord=\"fro\", \n",
    "                        axis=(0, 1))),\n",
    "            tf.square(\n",
    "                tf.norm(CinvmI, \n",
    "                        ord=\"fro\", \n",
    "                        axis=(0, 1)))))\n",
    "    return Λ_2, CmI"
   ]
  },
  {
   "cell_type": "code",
   "execution_count": 17,
   "metadata": {},
   "outputs": [],
   "source": [
    "def get_regularisation_strength(Λ_2, λ, α):\n",
    "    rate = tf.multiply(-α, Λ_2)\n",
    "    e_rate = tf.exp(rate)\n",
    "    r = tf.divide(\n",
    "            tf.multiply(\n",
    "                λ, \n",
    "                Λ_2), \n",
    "            tf.add(\n",
    "                Λ_2, \n",
    "                e_rate))\n",
    "    drdΛ_2 = tf.multiply(\n",
    "        r, \n",
    "        tf.add(\n",
    "            1., \n",
    "            tf.divide(\n",
    "                tf.multiply(\n",
    "                    tf.add(\n",
    "                        1.,\n",
    "                        tf.multiply(\n",
    "                            α,\n",
    "                            Λ_2)),\n",
    "                    e_rate),\n",
    "                tf.add(\n",
    "                    Λ_2,\n",
    "                    e_rate))))\n",
    "    return r, drdΛ_2"
   ]
  },
  {
   "cell_type": "code",
   "execution_count": 18,
   "metadata": {},
   "outputs": [],
   "source": [
    "def get_regularisation_derivative(C, Cinv, dCdx, λ, α):\n",
    "    Λ_2, CmI = get_regularisation(C, Cinv)\n",
    "    r, drdΛ_2= get_regularisation_strength(Λ_2, λ, α)\n",
    "    Cinv2 = tf.einsum(\n",
    "        \"ij,jk->ik\", \n",
    "        Cinv, \n",
    "        Cinv)\n",
    "    Cinv3 = tf.einsum(\n",
    "        \"ij,jk->ik\",\n",
    "        Cinv2,\n",
    "        Cinv)\n",
    "    dΛ_2dx = tf.multiply(\n",
    "        tf.add(\n",
    "            tf.multiply(\n",
    "                Λ_2,\n",
    "                drdΛ_2),\n",
    "            r),            \n",
    "        tf.linalg.trace(\n",
    "            tf.einsum(\n",
    "                \"ij,kjlm->kilm\",\n",
    "                tf.add(\n",
    "                    CmI, \n",
    "                    tf.subtract(\n",
    "                        Cinv2, \n",
    "                        Cinv3)),\n",
    "                dCdx)))\n",
    "    return dΛ_2dx, r"
   ]
  },
  {
   "cell_type": "code",
   "execution_count": 19,
   "metadata": {},
   "outputs": [],
   "source": [
    "def get_gradients(s):\n",
    "    with tf.GradientTape(persistent=True) as t:\n",
    "        x = model(s)\n",
    "    return x, t.jacobian(x, model.variables, experimental_use_pfor=True)"
   ]
  },
  {
   "cell_type": "code",
   "execution_count": 20,
   "metadata": {},
   "outputs": [],
   "source": [
    "def apply_gradients(F, C, Cinv, dμdθ, μ_offset, dxdw, dx_mdw, dx_pdw, λ, α):\n",
    "    dCdx = get_covariance_derivative(μ_offset)    \n",
    "    dΛdx, dΛdx_m, dΛdx_p = get_log_det_fisher_derivative(F, Cinv, dμdθ, dCdx)\n",
    "    \n",
    "    dΛ_2dx, r = get_regularisation_derivative(C, Cinv, dCdx, λ, α)\n",
    "    dΛdx = tf.add(dΛ_2dx, dΛdx)\n",
    "    \n",
    "    gradients = []\n",
    "    for layer in range(len(model.variables)):\n",
    "        gradients.append(\n",
    "            tf.add(\n",
    "                tf.divide(\n",
    "                    tf.einsum(\n",
    "                        \"ij,ij...->...\", \n",
    "                        dΛdx, \n",
    "                        dxdw[layer]),\n",
    "                    ns),\n",
    "                tf.divide(\n",
    "                    tf.add(\n",
    "                        tf.einsum(\n",
    "                            \"ijk,ijk...->...\", \n",
    "                            dΛdx_m,\n",
    "                            dx_mdw[layer]),\n",
    "                        tf.einsum(\n",
    "                            \"ijk,ijk...->...\", \n",
    "                            dΛdx_p, \n",
    "                            dx_pdw[layer])),\n",
    "                    nd)))\n",
    "    opt.apply_gradients(zip(gradients, model.variables))\n",
    "    return r"
   ]
  },
  {
   "cell_type": "code",
   "execution_count": 21,
   "metadata": {},
   "outputs": [],
   "source": [
    "@tf.function\n",
    "def training_iteration(s, s_m, s_p, α, λ):\n",
    "    x, dxdw = get_gradients(s)\n",
    "    x_m, dx_mdw = get_gradients(s_m)\n",
    "    x_p, dx_pdw = get_gradients(s_p)\n",
    "    \n",
    "    C, μ_offset = get_covariance(x)\n",
    "    Cinv = tf.linalg.inv(C)\n",
    "    dμdθ = get_derivative_mean(x_m, x_p)\n",
    "    \n",
    "    F = get_fisher(Cinv, dμdθ)\n",
    "        \n",
    "    r = apply_gradients(F, C, Cinv, dμdθ, μ_offset, dxdw, dx_mdw, dx_pdw, λ, α)\n",
    "    \n",
    "    return tf.linalg.det(F), tf.linalg.det(C), tf.linalg.det(Cinv), dμdθ, r"
   ]
  },
  {
   "cell_type": "code",
   "execution_count": 23,
   "metadata": {},
   "outputs": [],
   "source": [
    "def get_constraint_rate(ϵ, λ):\n",
    "    return np.float32(-np.log((λ - 1.) * ϵ + ϵ**2. / (1. + ϵ)) / ϵ)"
   ]
  },
  {
   "cell_type": "code",
   "execution_count": 24,
   "metadata": {},
   "outputs": [],
   "source": [
    "λ = np.float32(10.)\n",
    "α = get_constraint_rate(1e-2, λ)"
   ]
  },
  {
   "cell_type": "code",
   "execution_count": 36,
   "metadata": {},
   "outputs": [],
   "source": [
    "F_arr = []\n",
    "C_arr = []\n",
    "Cinv_arr = []\n",
    "dμdθ_arr = []\n",
    "r_arr = []\n",
    "\n",
    "test_F_arr = []\n",
    "test_C_arr = []\n",
    "test_Cinv_arr = []\n",
    "test_dμdθ_arr = []"
   ]
  },
  {
   "cell_type": "code",
   "execution_count": 45,
   "metadata": {},
   "outputs": [
    {
     "data": {
      "application/vnd.jupyter.widget-view+json": {
       "model_id": "02c9537394cd4fb7a682b9a8c36a164c",
       "version_major": 2,
       "version_minor": 0
      },
      "text/plain": [
       "HBox(children=(IntProgress(value=0, description='iterations', max=1000, style=ProgressStyle(description_width=…"
      ]
     },
     "metadata": {},
     "output_type": "display_data"
    },
    {
     "name": "stdout",
     "output_type": "stream",
     "text": [
      "\n"
     ]
    }
   ],
   "source": [
    "bar = tqdm.tnrange(1000, desc=\"iterations\")\n",
    "for iteration in bar:\n",
    "    for data in range(n_train):\n",
    "        F_temp, C_temp, Cinv_temp, dμdθ_temp, r_temp = staggered_train(data_iterator, data_derivative_iterator, indices_iterator, derivative_indices_iterator, λ, α)\n",
    "        F_arr.append(F_temp.numpy())\n",
    "        C_arr.append(C_temp.numpy())\n",
    "        Cinv_arr.append(Cinv_temp.numpy())\n",
    "        dμdθ_arr.append(dμdθ_temp.numpy())\n",
    "        r_arr.append(r_temp.numpy())\n",
    "    bar.set_postfix(\n",
    "        F=F_arr[-1],\n",
    "        C=C_arr[-1],\n",
    "        Cinv=Cinv_arr[-1],\n",
    "        dμdθ=dμdθ_arr[-1],\n",
    "        r=r_arr[-1])"
   ]
  },
  {
   "cell_type": "code",
   "execution_count": 62,
   "metadata": {},
   "outputs": [
    {
     "data": {
      "image/png": "[encoded data removed]",
      "text/plain": [
       "<Figure size 432x288 with 1 Axes>"
      ]
     },
     "metadata": {
      "needs_background": "light"
     },
     "output_type": "display_data"
    }
   ],
   "source": [
    "plt.plot(F_arr, color=\"C0\", label=\"$|{\\\\bf F}|$\")\n",
    "#plt.plot(test_F_arr, color=\"C1\", label=\"$|{\\\\bf F}|_{\\\\rm test}$\")\n",
    "plt.xlabel(\"Number of iterations\")\n",
    "plt.ylabel(\"$|{\\\\bf F}|$\")\n",
    "plt.legend(frameon=False);"
   ]
  },
  {
   "cell_type": "code",
   "execution_count": 61,
   "metadata": {},
   "outputs": [
    {
     "data": {
      "image/png": "[encoded data removed]",
      "text/plain": [
       "<Figure size 432x288 with 1 Axes>"
      ]
     },
     "metadata": {
      "needs_background": "light"
     },
     "output_type": "display_data"
    }
   ],
   "source": [
    "plt.plot(C_arr, color=\"C0\", label=\"$|{\\\\bf C}|$\")\n",
    "plt.plot(Cinv_arr, color=\"C2\", label=\"$|{\\\\bf C}^{-1}|$\")\n",
    "#plt.plot(test_C_arr, color=\"C1\", label=\"$|{\\\\bf C}|_{\\\\rm test}$\")\n",
    "#plt.plot(test_Cinv_arr, color=\"C1\", linestyle=\"dashed\", label=\"$|{\\\\bf C}^{-1}|_{\\\\rm test}$\")\n",
    "plt.xlabel(\"Number of iterations\")\n",
    "plt.ylabel(\"$|{\\\\bf C}|$ and $|{\\\\bf C}^{-1}|$\")\n",
    "plt.legend(frameon=False);"
   ]
  },
  {
   "cell_type": "code",
   "execution_count": 63,
   "metadata": {},
   "outputs": [
    {
     "data": {
      "image/png": "[encoded data removed]",
      "text/plain": [
       "<Figure size 432x288 with 1 Axes>"
      ]
     },
     "metadata": {
      "needs_background": "light"
     },
     "output_type": "display_data"
    }
   ],
   "source": [
    "plt.plot(np.array(dμdθ_arr)[:, 0, 0], color=\"C0\", label=\"$\\\\frac{\\partial\\mu_1}{\\partial\\\\theta}$\")\n",
    "plt.plot(np.array(dμdθ_arr)[:, 0, 1], color=\"C2\", label=\"$\\\\frac{\\partial\\mu_2}{\\partial\\\\theta}$\")\n",
    "#plt.plot(np.array(test_dμdθ_arr)[:, 0, :], color=\"C1\", label=\"$\\left(\\frac{\\partial\\mu}{\\partial\\theta}\\right)_\\textsf{test}$\")\n",
    "plt.xlabel(\"Number of iterations\")\n",
    "plt.ylabel(\"$\\\\frac{\\partial\\mu_1}{\\partial\\\\theta}$ and $\\\\frac{\\partial\\mu_2}{\\partial\\\\theta}$\")\n",
    "plt.legend(frameon=False);"
   ]
  },
  {
   "cell_type": "code",
   "execution_count": 66,
   "metadata": {},
   "outputs": [
    {
     "data": {
      "image/png": "[encoded data removed]",
      "text/plain": [
       "<Figure size 432x288 with 1 Axes>"
      ]
     },
     "metadata": {
      "needs_background": "light"
     },
     "output_type": "display_data"
    }
   ],
   "source": [
    "plt.plot(r_arr)\n",
    "plt.yscale(\"log\")\n",
    "plt.xlabel(\"Number of iterations\")\n",
    "plt.ylabel(\"$r(\\Lambda_2)$\");"
   ]
  }
 ],
 "metadata": {
  "kernelspec": {
   "display_name": "tensorflow-2.0.0",
   "language": "python",
   "name": "tensorflow-2.0.0"
  },
  "language_info": {
   "codemirror_mode": {
    "name": "ipython",
    "version": 3
   },
   "file_extension": ".py",
   "mimetype": "text/x-python",
   "name": "python",
   "nbconvert_exporter": "python",
   "pygments_lexer": "ipython3",
   "version": "3.7.3"
  }
 },
 "nbformat": 4,
 "nbformat_minor": 4
}
